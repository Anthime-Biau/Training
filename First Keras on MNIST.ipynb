{
 "cells": [
  {
   "cell_type": "code",
   "execution_count": 1,
   "metadata": {},
   "outputs": [
    {
     "name": "stderr",
     "output_type": "stream",
     "text": [
      "Using TensorFlow backend.\n"
     ]
    },
    {
     "name": "stdout",
     "output_type": "stream",
     "text": [
      "60000 train samples\n",
      "10000 test samples\n",
      "_________________________________________________________________\n",
      "Layer (type)                 Output Shape              Param #   \n",
      "=================================================================\n",
      "dense_1 (Dense)              (None, 512)               401920    \n",
      "_________________________________________________________________\n",
      "dropout_1 (Dropout)          (None, 512)               0         \n",
      "_________________________________________________________________\n",
      "dense_2 (Dense)              (None, 512)               262656    \n",
      "_________________________________________________________________\n",
      "dropout_2 (Dropout)          (None, 512)               0         \n",
      "_________________________________________________________________\n",
      "dense_3 (Dense)              (None, 10)                5130      \n",
      "=================================================================\n",
      "Total params: 669,706\n",
      "Trainable params: 669,706\n",
      "Non-trainable params: 0\n",
      "_________________________________________________________________\n",
      "Train on 60000 samples, validate on 10000 samples\n",
      "Epoch 1/20\n",
      "60000/60000 [==============================] - 17s 288us/step - loss: 0.2429 - acc: 0.9256 - val_loss: 0.1016 - val_acc: 0.9687\n",
      "Epoch 2/20\n",
      "60000/60000 [==============================] - 16s 262us/step - loss: 0.1014 - acc: 0.9694 - val_loss: 0.0949 - val_acc: 0.9696\n",
      "Epoch 3/20\n",
      "60000/60000 [==============================] - 16s 264us/step - loss: 0.0744 - acc: 0.9777 - val_loss: 0.0706 - val_acc: 0.9780\n",
      "Epoch 4/20\n",
      "60000/60000 [==============================] - 17s 280us/step - loss: 0.0593 - acc: 0.9816 - val_loss: 0.0816 - val_acc: 0.9784\n",
      "Epoch 5/20\n",
      "60000/60000 [==============================] - 18s 303us/step - loss: 0.0499 - acc: 0.9849 - val_loss: 0.0721 - val_acc: 0.9809\n",
      "Epoch 6/20\n",
      "60000/60000 [==============================] - 17s 283us/step - loss: 0.0426 - acc: 0.9871 - val_loss: 0.0761 - val_acc: 0.9815\n",
      "Epoch 7/20\n",
      "60000/60000 [==============================] - 17s 285us/step - loss: 0.0371 - acc: 0.9886 - val_loss: 0.0928 - val_acc: 0.9785\n",
      "Epoch 8/20\n",
      "60000/60000 [==============================] - 16s 268us/step - loss: 0.0341 - acc: 0.9898 - val_loss: 0.0846 - val_acc: 0.9813\n",
      "Epoch 9/20\n",
      "60000/60000 [==============================] - 15s 257us/step - loss: 0.0315 - acc: 0.9905 - val_loss: 0.0884 - val_acc: 0.9817\n",
      "Epoch 10/20\n",
      "60000/60000 [==============================] - 15s 257us/step - loss: 0.0287 - acc: 0.9920 - val_loss: 0.0922 - val_acc: 0.9824\n",
      "Epoch 11/20\n",
      "60000/60000 [==============================] - 15s 258us/step - loss: 0.0282 - acc: 0.9922 - val_loss: 0.0915 - val_acc: 0.9823\n",
      "Epoch 12/20\n",
      "60000/60000 [==============================] - 19s 312us/step - loss: 0.0266 - acc: 0.9926 - val_loss: 0.0956 - val_acc: 0.9825\n",
      "Epoch 13/20\n",
      "60000/60000 [==============================] - 17s 285us/step - loss: 0.0246 - acc: 0.9936 - val_loss: 0.0960 - val_acc: 0.9838\n",
      "Epoch 14/20\n",
      "60000/60000 [==============================] - 19s 321us/step - loss: 0.0233 - acc: 0.9938 - val_loss: 0.0813 - val_acc: 0.9846\n",
      "Epoch 15/20\n",
      "60000/60000 [==============================] - 16s 275us/step - loss: 0.0232 - acc: 0.9940 - val_loss: 0.0980 - val_acc: 0.9847\n",
      "Epoch 16/20\n",
      "60000/60000 [==============================] - 16s 266us/step - loss: 0.0230 - acc: 0.9941 - val_loss: 0.0955 - val_acc: 0.9834\n",
      "Epoch 17/20\n",
      "60000/60000 [==============================] - 16s 267us/step - loss: 0.0209 - acc: 0.9944 - val_loss: 0.1011 - val_acc: 0.9834\n",
      "Epoch 18/20\n",
      "60000/60000 [==============================] - 16s 266us/step - loss: 0.0195 - acc: 0.9948 - val_loss: 0.0951 - val_acc: 0.9845\n",
      "Epoch 19/20\n",
      "60000/60000 [==============================] - 16s 275us/step - loss: 0.0180 - acc: 0.9954 - val_loss: 0.1089 - val_acc: 0.9829\n",
      "Epoch 20/20\n",
      "60000/60000 [==============================] - 17s 276us/step - loss: 0.0213 - acc: 0.9949 - val_loss: 0.1106 - val_acc: 0.9831\n",
      "Test loss: 0.11061787108060794\n",
      "Test accuracy: 0.9831\n"
     ]
    }
   ],
   "source": [
    "'''Trains a simple deep NN on the MNIST dataset.\n",
    "Gets to 98.40% test accuracy after 20 epochs\n",
    "(there is *a lot* of margin for parameter tuning).\n",
    "2 seconds per epoch on a K520 GPU.\n",
    "'''\n",
    "\n",
    "from __future__ import print_function\n",
    "\n",
    "import keras\n",
    "from keras.datasets import mnist\n",
    "from keras.models import Sequential\n",
    "from keras.layers import Dense, Dropout\n",
    "from keras.optimizers import RMSprop\n",
    "\n",
    "batch_size = 128\n",
    "num_classes = 10\n",
    "epochs = 20\n",
    "\n",
    "# the data, split between train and test sets\n",
    "(x_train, y_train), (x_test, y_test) = mnist.load_data()\n",
    "\n",
    "x_train = x_train.reshape(60000, 784)\n",
    "x_test = x_test.reshape(10000, 784)\n",
    "x_train = x_train.astype('float32')\n",
    "x_test = x_test.astype('float32')\n",
    "x_train /= 255\n",
    "x_test /= 255\n",
    "print(x_train.shape[0], 'train samples')\n",
    "print(x_test.shape[0], 'test samples')\n",
    "\n",
    "# convert class vectors to binary class matrices\n",
    "y_train = keras.utils.to_categorical(y_train, num_classes)\n",
    "y_test = keras.utils.to_categorical(y_test, num_classes)\n",
    "\n",
    "model = Sequential()\n",
    "model.add(Dense(512, activation='relu', input_shape=(784,)))\n",
    "model.add(Dropout(0.2))\n",
    "model.add(Dense(512, activation='relu'))\n",
    "model.add(Dropout(0.2))\n",
    "model.add(Dense(num_classes, activation='softmax'))\n",
    "\n",
    "model.summary()\n",
    "\n",
    "model.compile(loss='categorical_crossentropy',\n",
    "              optimizer=RMSprop(),\n",
    "              metrics=['accuracy'])\n",
    "\n",
    "history = model.fit(x_train, y_train,\n",
    "                    batch_size=batch_size,\n",
    "                    epochs=epochs,\n",
    "                    verbose=1,\n",
    "                    validation_data=(x_test, y_test))\n",
    "score = model.evaluate(x_test, y_test, verbose=0)\n",
    "print('Test loss:', score[0])\n",
    "print('Test accuracy:', score[1])\n"
   ]
  },
  {
   "cell_type": "code",
   "execution_count": 2,
   "metadata": {},
   "outputs": [],
   "source": [
    "predictions = model.predict(x_test)"
   ]
  },
  {
   "cell_type": "code",
   "execution_count": 3,
   "metadata": {},
   "outputs": [
    {
     "data": {
      "text/plain": [
       "array([1.3518803e-34, 5.4712402e-29, 1.4727333e-21, 4.2509534e-23,\n",
       "       8.8878867e-36, 1.4654188e-30, 0.0000000e+00, 1.0000000e+00,\n",
       "       9.6381555e-34, 3.4150874e-22], dtype=float32)"
      ]
     },
     "execution_count": 3,
     "metadata": {},
     "output_type": "execute_result"
    }
   ],
   "source": [
    "predictions[0]"
   ]
  },
  {
   "cell_type": "code",
   "execution_count": 4,
   "metadata": {},
   "outputs": [
    {
     "name": "stdout",
     "output_type": "stream",
     "text": [
      "7\n"
     ]
    }
   ],
   "source": [
    "import numpy as np\n",
    "print(np.argmax(predictions[0]))"
   ]
  },
  {
   "cell_type": "code",
   "execution_count": null,
   "metadata": {},
   "outputs": [],
   "source": []
  }
 ],
 "metadata": {
  "kernelspec": {
   "display_name": "Python 3",
   "language": "python",
   "name": "python3"
  },
  "language_info": {
   "codemirror_mode": {
    "name": "ipython",
    "version": 3
   },
   "file_extension": ".py",
   "mimetype": "text/x-python",
   "name": "python",
   "nbconvert_exporter": "python",
   "pygments_lexer": "ipython3",
   "version": "3.6.8"
  }
 },
 "nbformat": 4,
 "nbformat_minor": 2
}
