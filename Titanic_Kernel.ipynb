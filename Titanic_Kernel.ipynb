{
  "cells": [
    {
      "metadata": {
        "_uuid": "8f2839f25d086af736a60e9eeb907d3b93b6e0e5",
        "_cell_guid": "b1076dfc-b9ad-4769-8c92-a6c4dae69d19",
        "trusted": true,
        "collapsed": true
      },
      "cell_type": "code",
      "source": "# This Python 3 environment comes with many helpful analytics libraries installed\n# It is defined by the kaggle/python docker image: https://github.com/kaggle/docker-python\n# For example, here's several helpful packages to load in \n\nimport numpy as np # linear algebra\nimport pandas as pd # data processing, CSV file I/O (e.g. pd.read_csv)\n\n# Input data files are available in the \"../input/\" directory.\n# For example, running this (by clicking run or pressing Shift+Enter) will list the files in the input directory\n\nimport os\nprint(os.listdir(\"../input\"))\nimport matplotlib.pyplot as plt\n\n# Any results you write to the current directory are saved as output.",
      "execution_count": null,
      "outputs": []
    },
    {
      "metadata": {
        "_cell_guid": "79c7e3d0-c299-4dcb-8224-4455121ee9b0",
        "collapsed": true,
        "_uuid": "d629ff2d2480ee46fbb7e2d37f6b5fab8052498a",
        "trusted": true
      },
      "cell_type": "code",
      "source": "df_train = pd.read_csv('../input/train.csv')\ndf_test = pd.read_csv('../input/test.csv')\nY = df_train['Survived']",
      "execution_count": null,
      "outputs": []
    },
    {
      "metadata": {
        "_uuid": "df31015821cd88a5bba2316b7930f32e5c424ee6"
      },
      "cell_type": "markdown",
      "source": "## Overview"
    },
    {
      "metadata": {
        "trusted": true,
        "_uuid": "31376b22f9c84a3dfe80ebbecb6e4aaf26c21663",
        "collapsed": true
      },
      "cell_type": "code",
      "source": "df_train[:10]",
      "execution_count": null,
      "outputs": []
    },
    {
      "metadata": {
        "_uuid": "3bbdfdc23d085c1c95ef923b165c988be09c029a"
      },
      "cell_type": "markdown",
      "source": "## Histograms"
    },
    {
      "metadata": {
        "trusted": true,
        "_uuid": "05b89cb5f2861b1b4b2170632ccbb9cfebd0c1bc",
        "collapsed": true
      },
      "cell_type": "code",
      "source": "df_train.hist(bins=50, figsize=(20, 15))\nplt.show()",
      "execution_count": null,
      "outputs": []
    },
    {
      "metadata": {
        "_uuid": "6d947a2de89ae39dddf8c44b7ba4b7b441a2411f"
      },
      "cell_type": "markdown",
      "source": "## Information on columns"
    },
    {
      "metadata": {
        "trusted": true,
        "_uuid": "da9caba78190b0d9a87549919042654ff78d5e42",
        "collapsed": true
      },
      "cell_type": "code",
      "source": "df_train.describe()",
      "execution_count": null,
      "outputs": []
    },
    {
      "metadata": {
        "_uuid": "f8e7a99d1040558378c4727c1eb691df167eb298"
      },
      "cell_type": "markdown",
      "source": "## Build of my Transformers"
    },
    {
      "metadata": {
        "trusted": true,
        "collapsed": true,
        "_uuid": "6d0c6e4f65aef09da38717a1fd99989cd4f1da95"
      },
      "cell_type": "code",
      "source": "#Custom Transformer which drop colunmns\nfrom sklearn.base import TransformerMixin\nclass DropTransformer(TransformerMixin):\n    def fit(self, X, y=None):\n        return self\n\n    def transform(self, X):\n        cat=['Ticket', 'Fare', 'Cabin', 'Name', 'SibSp', 'Parch', 'PassengerId']\n        Xnew = X.drop(cat, axis=1)\n        return Xnew",
      "execution_count": null,
      "outputs": []
    },
    {
      "metadata": {
        "trusted": true,
        "_uuid": "4671414092ffe8fd5e3fa01424dba8bcff6d8346",
        "collapsed": true
      },
      "cell_type": "code",
      "source": "#Custom Transformer get dummies of my categorical columns\nclass GetDummiesTransformer(TransformerMixin):\n    def fit(self, X, y=None):\n        return self\n    def transform(self, X):\n        features_totransform = ['Sex', 'Embarked', 'Pclass', 'Title']\n        for var in features_totransform:\n            X = pd.concat([X.drop(var, axis=1), pd.get_dummies(X[var], prefix=var)], axis=1)\n        return X",
      "execution_count": null,
      "outputs": []
    },
    {
      "metadata": {
        "trusted": true,
        "_uuid": "e28f77001ee5b7af2595ddb91e417ceacdace8e5",
        "collapsed": true
      },
      "cell_type": "code",
      "source": "#Custom Transformer for impute median age into NaN values\nclass Imputer(TransformerMixin):\n    def fit(self, X, y=None):\n        return self\n    \n    def transform(self, X):\n        X['Age'] = X['Age'].fillna(df_train['Age'].median())\n        return X\n",
      "execution_count": null,
      "outputs": []
    },
    {
      "metadata": {
        "trusted": true,
        "collapsed": true,
        "_uuid": "368197a4824dbd684eab6c24b4b314c292c898d9"
      },
      "cell_type": "code",
      "source": "#Custom Transformer for extract Title of people\nclass Title(TransformerMixin):\n    def fit(self, X, y=None):\n        return self\n    \n    def transform(self, X):\n        for i in X:\n            X['Title']=X['Name'].str.extract('([A-Za-z]+)\\.', expand=False)  # Use REGEX to define a search pattern\n        return X",
      "execution_count": null,
      "outputs": []
    },
    {
      "metadata": {
        "trusted": true,
        "collapsed": true,
        "_uuid": "bbefafe78fe396a89d017f835c1ad4645f573aab"
      },
      "cell_type": "code",
      "source": "#Custom Transformer obtains the number of person of the same family\nclass Family(TransformerMixin):\n    def fit(self, X, y=None):\n        return self\n    \n    def transform(self, X):\n        for i in X:\n            X['Family']=X['SibSp'] + X['Parch']\n        return X",
      "execution_count": null,
      "outputs": []
    },
    {
      "metadata": {
        "_uuid": "cf23217957fce56e6754c3add03c7ef0ecb7f1df"
      },
      "cell_type": "markdown",
      "source": "## My Pipelines"
    },
    {
      "metadata": {
        "trusted": true,
        "_uuid": "12f86f7ea04d027e1106057a26e52cf1c7eb7b47",
        "scrolled": true,
        "collapsed": true
      },
      "cell_type": "code",
      "source": "#Pipeline\nfrom sklearn.pipeline import Pipeline\npipeline = Pipeline([ \n        ('imp', Imputer()),\n        ('title', Title()),\n        ('family', Family()),\n        ('drop', DropTransformer()),\n        ('encoder', GetDummiesTransformer())\n    ])\n\ndf_train_tr = pipeline.fit_transform(df_train)\ndf_test_tr = pipeline.transform(df_test)\n\n",
      "execution_count": null,
      "outputs": []
    },
    {
      "metadata": {
        "_uuid": "eab35970652608f418c3dba09bb18304a76d7464"
      },
      "cell_type": "markdown",
      "source": "df_train_tr contrains 28 columns wheareas df_test_tr contains only 19 columns.."
    },
    {
      "metadata": {
        "_uuid": "88ce43b6c89f1fb39efdcfc5a5b94b0b55fd9ee6"
      },
      "cell_type": "markdown",
      "source": "A lot of Titles are not given"
    },
    {
      "metadata": {
        "trusted": true,
        "_uuid": "c4e1b2a02a23c0bcca841d421c5bc2c26c485b62",
        "collapsed": true
      },
      "cell_type": "code",
      "source": "#Custom Transformer for modify the Title into other caterogies\nclass TitleTransformer(TransformerMixin):\n    def fit(self, X, y=None):\n        return self\n    \n    def transform(self, X):\n        for i in X:\n            X['Title']=X['Title'].replace(['Capt', 'Col', 'Don', 'Dr', 'Major', 'Rev'], 'Officer')\n            X['Title']=X['Title'].replace(['Lady', 'Countess', 'Sir', 'Jonkheer', 'Dona', 'Master'], 'Royalty')\n            X['Title']=X['Title'].replace('Mlle', 'Miss')\n            X['Title'] = X['Title'].replace('Ms', 'Miss')\n            X['Title'] = X['Title'].replace('Mme', 'Mrs')\n            \n        return X\n\n#Pipeline\nfrom sklearn.pipeline import Pipeline\npipeline2= Pipeline([ \n        ('imp', Imputer()),\n        ('title', Title()),\n        ('family', Family()),\n        ('drop', DropTransformer()),\n        ('titlet', TitleTransformer()),\n        ('encoder', GetDummiesTransformer())\n    ])\n\ndf_train_tr = pipeline2.fit_transform(df_train)\ndf_test_tr = pipeline2.transform(df_test)\n",
      "execution_count": null,
      "outputs": []
    },
    {
      "metadata": {
        "_uuid": "29559c3d34bf5adac41ade448d59e5f3155dfcaf"
      },
      "cell_type": "markdown",
      "source": "## Classifier"
    },
    {
      "metadata": {
        "trusted": true,
        "_uuid": "d73233258613108b54e87ac9e7ede0cee490c89f",
        "collapsed": true
      },
      "cell_type": "code",
      "source": "from sklearn.model_selection import GridSearchCV\n\nX_train = df_train_tr.drop(['Survived'], axis=1).values\nX_test = df_test_tr\ny_train_1 = (df_train['Survived'] == 1)",
      "execution_count": null,
      "outputs": []
    },
    {
      "metadata": {
        "_uuid": "93b416728ec6bf2579f93e47639253f70410dd60"
      },
      "cell_type": "markdown",
      "source": "SGDClassifier"
    },
    {
      "metadata": {
        "trusted": true,
        "scrolled": false,
        "_uuid": "fc1bb2d7394b1f96e1c8d3735cad95f700f54b05",
        "collapsed": true
      },
      "cell_type": "code",
      "source": "from sklearn.linear_model import SGDClassifier\nsgd_clf = SGDClassifier(random_state=42)\n\n\nsgd_clf.fit(X_train, y_train_1)\n\n\n\n",
      "execution_count": null,
      "outputs": []
    },
    {
      "metadata": {
        "trusted": true,
        "_uuid": "ef090377762c9fd60f7ec372239e6b7b1fb7860d",
        "collapsed": true
      },
      "cell_type": "code",
      "source": "Some_data = X_train[10]\nSome_data_predict = sgd_clf.predict([Some_data])\nprint('Is he survived ? ', Some_data_predict, 'real issue is ', Y[10])\n\n",
      "execution_count": null,
      "outputs": []
    },
    {
      "metadata": {
        "_uuid": "3675ef1ba9096fb645eecc8558047d0f4196053c"
      },
      "cell_type": "markdown",
      "source": "Accuracy on samples"
    },
    {
      "metadata": {
        "trusted": true,
        "_uuid": "a47522772f306f5254c8106b58397a6a80c05c08",
        "collapsed": true
      },
      "cell_type": "code",
      "source": "#Calcul of the exact rate : more than 90% ! But there's only 1 / 10 to have a 3\nfrom sklearn.model_selection import cross_val_score\ncross_val_score(sgd_clf, X_train, y_train_1, cv=3, scoring=\"accuracy\")",
      "execution_count": null,
      "outputs": []
    },
    {
      "metadata": {
        "_uuid": "18ce9ac200bf9cd19451e502089d273e9aae5a90"
      },
      "cell_type": "markdown",
      "source": "Confusion matrix"
    },
    {
      "metadata": {
        "trusted": true,
        "_uuid": "7725cfba8fb7510ccb6d921150a2dc21cc21c4a6",
        "collapsed": true
      },
      "cell_type": "code",
      "source": "from sklearn.model_selection import cross_val_predict\n\ny_train_pred = cross_val_predict(sgd_clf, X_train, y_train_1, cv=3)\n\nfrom sklearn.metrics import confusion_matrix\n\nconfusion_matrix(y_train_1, y_train_pred)",
      "execution_count": null,
      "outputs": []
    },
    {
      "metadata": {
        "trusted": true,
        "_uuid": "92f84a9ec6a20883395fc071161adc5ddd24588f",
        "collapsed": true
      },
      "cell_type": "code",
      "source": "#Precision / recall\nfrom sklearn.metrics import precision_score, recall_score\n\nprecision_score(y_train_1, y_train_pred)#0.39492753623188404 39% true when he said \"Survived\"\nrecall_score(y_train_1, y_train_pred)#0.956140350877193 95% of the Survived are covered\n\n#Combo between precision & recall : F1\nfrom sklearn.metrics import f1_score\nf1_score(y_train_1, y_train_pred)",
      "execution_count": null,
      "outputs": []
    },
    {
      "metadata": {
        "_uuid": "5a7e27ee65706e199f7415a6b0c62408c7f36bbe"
      },
      "cell_type": "markdown",
      "source": "Configure Threshold to optimize results"
    },
    {
      "metadata": {
        "trusted": true,
        "_uuid": "ee7340ff029036d8f280856e7d90adda9325e88d",
        "collapsed": true
      },
      "cell_type": "code",
      "source": "from sklearn.metrics import precision_recall_curve\n\ny_scores = cross_val_predict(sgd_clf, X_train, y_train_1, cv=3,\n                             method=\"decision_function\")\nprecisions, recalls, thresholds = precision_recall_curve(y_train_1, y_scores)\n\ndef plot_precision_recall_vs_threshold(precisions, recalls, thresholds):\n    plt.plot(thresholds, precisions[:-1], \"b--\", label=\"Precision\", linewidth=2)\n    plt.plot(thresholds, recalls[:-1], \"g-\", label=\"Recall\", linewidth=2)\n    plt.axvline(x=2000,color='red')\n    plt.xlabel(\"Threshold\", fontsize=16)\n    plt.legend(loc=\"upper left\", fontsize=16)\n    plt.ylim([0, 1])   \n    \nplt.figure(figsize=(8, 4))\nplot_precision_recall_vs_threshold(precisions, recalls, thresholds)\nplt.xlim([-2000, 5000])\nplt.show()",
      "execution_count": null,
      "outputs": []
    },
    {
      "metadata": {
        "_uuid": "afac75438a5b1d65966a85cc16868145a7a1187b"
      },
      "cell_type": "markdown",
      "source": "Best parameters for SGDClassifier"
    },
    {
      "metadata": {
        "trusted": true,
        "_uuid": "4c2dd6ce59dfe91ee4f42c5f970c1a633c3dac34",
        "collapsed": true
      },
      "cell_type": "code",
      "source": "y_train_pred_90 = (y_scores > 2000)\nprint(precision_score(y_train_1, y_train_pred_90))\n\nprint(recall_score(y_train_1, y_train_pred_90))",
      "execution_count": null,
      "outputs": []
    },
    {
      "metadata": {
        "trusted": true,
        "_uuid": "b2f701c969f11be63e06840e6345a8255201671c",
        "collapsed": true
      },
      "cell_type": "code",
      "source": "from sklearn.metrics import roc_curve\n\nfpr, tpr, thresholds = roc_curve(y_train_1, y_scores)\ndef plot_roc_curve(fpr, tpr, label=None):\n    plt.plot(fpr, tpr, linewidth=2, label=label)\n    plt.plot([0, 1], [0, 1], 'k--')\n    plt.axis([0, 1, 0, 1])\n    plt.xlabel('False Positive Rate', fontsize=16)\n    plt.ylabel('True Positive Rate', fontsize=16)\n\nplt.figure(figsize=(8, 6))\nplot_roc_curve(fpr, tpr)\nplt.show()",
      "execution_count": null,
      "outputs": []
    },
    {
      "metadata": {
        "_uuid": "b2e9b8a568bf4c62122af36ff6d4ca5e759f6494"
      },
      "cell_type": "markdown",
      "source": "Final Score"
    },
    {
      "metadata": {
        "trusted": true,
        "_uuid": "4a1dade7e324ae2901ad3869c142cdadb293949c",
        "collapsed": true
      },
      "cell_type": "code",
      "source": "from sklearn.metrics import roc_auc_score\n\nroc_auc_score(y_train_1, y_scores)",
      "execution_count": null,
      "outputs": []
    },
    {
      "metadata": {
        "_uuid": "24e48cf1a7baa2114b7b2c17fe1d623e48b3d1fc"
      },
      "cell_type": "markdown",
      "source": "RandomForest Classifier"
    },
    {
      "metadata": {
        "trusted": true,
        "_uuid": "7f97253ea7a6a13f39874a0f2fe21d833ee91112",
        "collapsed": true
      },
      "cell_type": "code",
      "source": "from  sklearn.ensemble  import RandomForestClassifier\nforest_clf = RandomForestClassifier(random_state=42)\n\n## Search grid for optimal parameters\nrf_param_grid = {\"max_depth\": [None],\n              \"max_features\": [1, 3, 10],\n              \"min_samples_split\": [2, 3, 10],\n              \"min_samples_leaf\": [1, 3, 10],\n              \"bootstrap\": [False],\n              \"n_estimators\" :[100,300],\n              \"criterion\": [\"gini\"]}\n\ngrid_search = GridSearchCV(forest_clf,param_grid = rf_param_grid, cv=5, scoring=\"accuracy\", n_jobs= 4, verbose = 1)\n\ngrid_search.fit(X_train, y_train_1)\n\nforest_clf = grid_search.best_estimator_\nprint(grid_search.best_params_)\n\n\ny_probas_forest = cross_val_predict(forest_clf, X_train, y_train_1, cv=3,\n                                    method=\"predict_proba\")\n",
      "execution_count": null,
      "outputs": []
    },
    {
      "metadata": {
        "trusted": true,
        "_uuid": "be859abaaa6a6c3d0a1d3887c248bd866831c989",
        "collapsed": true
      },
      "cell_type": "code",
      "source": "#Calcul of the exact rate : more than 76% ! better than the previous\nfrom sklearn.model_selection import cross_val_score\ncross_val_score(forest_clf, X_train, y_train_1, cv=3, scoring=\"accuracy\")",
      "execution_count": null,
      "outputs": []
    },
    {
      "metadata": {
        "trusted": true,
        "_uuid": "2fc5897d03608766f4156aea7eec2c5bc0b55ad9",
        "collapsed": true
      },
      "cell_type": "code",
      "source": "from sklearn.model_selection import cross_val_predict\n\ny_train_pred = cross_val_predict(forest_clf, X_train, y_train_1, cv=3)\n\nfrom sklearn.metrics import confusion_matrix\n\nconfusion_matrix(y_train_1, y_train_pred)",
      "execution_count": null,
      "outputs": []
    },
    {
      "metadata": {
        "trusted": true,
        "_uuid": "ab632cabc7899395df3159f47a8d6df8f214f368",
        "collapsed": true
      },
      "cell_type": "code",
      "source": "#Precision / recall\nfrom sklearn.metrics import precision_score, recall_score\n\nprecision_score(y_train_1, y_train_pred)#0.728125 73% des fois où il dit Survived : c'est vrai\nrecall_score(y_train_1, y_train_pred)#0.6812865497076024 68% de la totalité des Survived a été couverte\n\n#On peut combiner precision_score avec le recall_score en une métrique unique : F1\nfrom sklearn.metrics import f1_score\nf1_score(y_train_1, y_train_pred)",
      "execution_count": null,
      "outputs": []
    },
    {
      "metadata": {
        "trusted": true,
        "_uuid": "fa621fc578c52c3d3ed81ad102c6230299df7baf",
        "collapsed": true
      },
      "cell_type": "code",
      "source": "from sklearn.metrics import roc_curve\n\n\ny_scores_forest = y_probas_forest[:, 1] # score = proba of positive class\nfpr_forest, tpr_forest, thresholds_forest = roc_curve(y_train_1, y_scores_forest)\n\n",
      "execution_count": null,
      "outputs": []
    },
    {
      "metadata": {
        "trusted": true,
        "_uuid": "c01ab88cf27778a580c1c56201364303dd3d0c67",
        "collapsed": true
      },
      "cell_type": "code",
      "source": "from sklearn.metrics import precision_recall_curve\n\nprecisions_forest, recalls_forest, thresholds_forest = precision_recall_curve(y_train_1, y_scores_forest)\n\ndef plot_precision_recall_vs_threshold(precisions_forest, recalls_forest, thresholds_forest):\n    plt.plot(thresholds_forest, precisions_forest[:-1], \"b--\", label=\"Precision\", linewidth=2)\n    plt.plot(thresholds_forest, recalls_forest[:-1], \"g-\", label=\"Recall\", linewidth=2)\n    plt.axvline(x=0.43,color='red')\n    plt.xlabel(\"Threshold\", fontsize=16)\n    plt.legend(loc=\"upper left\", fontsize=16)\n    plt.ylim([0, 1])\n\nplt.figure(figsize=(8, 4))\nplot_precision_recall_vs_threshold(precisions_forest, recalls_forest, thresholds_forest)\nplt.xlim([-1, 2])\nplt.show()",
      "execution_count": null,
      "outputs": []
    },
    {
      "metadata": {
        "trusted": true,
        "_uuid": "e75a0146942dc1113490a02b7a7a30ac82a44b8f",
        "collapsed": true
      },
      "cell_type": "code",
      "source": "y_train_pred_90 = (y_scores_forest > 0.43)\nprint(precision_score(y_train_1, y_train_pred_90))\n\nprint(recall_score(y_train_1, y_train_pred_90))",
      "execution_count": null,
      "outputs": []
    },
    {
      "metadata": {
        "trusted": true,
        "_uuid": "df3b75c67996722fe0df670427f3915d72568f34",
        "collapsed": true
      },
      "cell_type": "code",
      "source": "plt.figure(figsize=(8, 6))\nplt.plot(fpr, tpr, \"b:\", linewidth=2, label=\"SGD\")\nplot_roc_curve(fpr_forest, tpr_forest, \"Random Forest\")\nplt.legend(loc=\"lower right\", fontsize=16)\nplt.show()",
      "execution_count": null,
      "outputs": []
    },
    {
      "metadata": {
        "trusted": true,
        "_uuid": "f43e7dc6b3f767c92d135edd84dcf508a495655e",
        "collapsed": true
      },
      "cell_type": "code",
      "source": "roc_auc_score(y_train_1, y_scores_forest)",
      "execution_count": null,
      "outputs": []
    },
    {
      "metadata": {
        "trusted": true,
        "_uuid": "682b15163099911fbfaa696cc739adf1ffaeb0cf",
        "collapsed": true
      },
      "cell_type": "code",
      "source": "forest_clf.fit(X_train, y_train_1)\ny_final = forest_clf.predict_proba(X_test)\ny_final = pd.DataFrame(y_final)\n\npredict_mine = np.where(y_final > 0.43, 1, 0)\npredict_mine = pd.DataFrame(predict_mine)\npredict_mine = predict_mine[1]",
      "execution_count": null,
      "outputs": []
    },
    {
      "metadata": {
        "trusted": true,
        "_uuid": "07ebbddd3992e342f13ba728625c38ec95e29df4",
        "collapsed": true
      },
      "cell_type": "code",
      "source": "submission = pd.DataFrame({\n        \"PassengerId\": df_test[\"PassengerId\"],\n        \"Survived\": predict_mine\n    })\nsubmission.to_csv(\"Forest.csv\", index=False)",
      "execution_count": null,
      "outputs": []
    },
    {
      "metadata": {
        "_uuid": "9a208694f147642162346fad9d4cfbf205b0fc92"
      },
      "cell_type": "markdown",
      "source": "Gradient Boosting"
    },
    {
      "metadata": {
        "trusted": true,
        "_uuid": "cc2a257d4c9e83535b299be7ca09f25ff8148f0f",
        "collapsed": true
      },
      "cell_type": "code",
      "source": "from sklearn.ensemble import GradientBoostingClassifier\ngradient_clf = GradientBoostingClassifier(random_state=42)\n\ngb_param_grid = {'loss' : [\"deviance\"],\n              'n_estimators' : [100,200,300],\n              'learning_rate': [0.1, 0.05, 0.01],\n              'max_depth': [4, 8],\n              'min_samples_leaf': [100,150],\n              'max_features': [0.3, 0.1] \n              }\n\ngrid_search = GridSearchCV(gradient_clf,param_grid = gb_param_grid, cv=5, scoring=\"accuracy\", n_jobs= 4, verbose = 1)\n\ngrid_search.fit(X_train,y_train_1)\n\ngradient_clf = grid_search.best_estimator_\n\nprint(grid_search.best_params_)\n\ny_probas_gradient = cross_val_predict(gradient_clf, X_train, y_train_1, cv=3,\n                                    method=\"predict_proba\")\n",
      "execution_count": null,
      "outputs": []
    },
    {
      "metadata": {
        "trusted": true,
        "_uuid": "b4a1d010c6786700cae02c091d06165b8eefff90",
        "collapsed": true
      },
      "cell_type": "code",
      "source": "cross_val_score(gradient_clf, X_train, y_train_1, cv=3, scoring=\"accuracy\")\n#Seems to be better than the RandomForest",
      "execution_count": null,
      "outputs": []
    },
    {
      "metadata": {
        "trusted": true,
        "_uuid": "f32f38f4c1a140d7fd1d8c47cfd7d3193dcda7d5",
        "collapsed": true
      },
      "cell_type": "code",
      "source": "y_train_pred = cross_val_predict(gradient_clf, X_train, y_train_1, cv=3)\n\nconfusion_matrix(y_train_1, y_train_pred)",
      "execution_count": null,
      "outputs": []
    },
    {
      "metadata": {
        "trusted": true,
        "_uuid": "c67d1f524d49de6ca53ac7587552c2a245e1ee6b",
        "collapsed": true
      },
      "cell_type": "code",
      "source": "#Precision / recall\nfrom sklearn.metrics import precision_score, recall_score\n\nprecision_score(y_train_1, y_train_pred)#0.8235294117647058 82% des fois où il dit Survived : c'est vrai\nrecall_score(y_train_1, y_train_pred)#0.695906432748538 69% de la totalité des Survived a été couverte\n\nf1_score(y_train_1, y_train_pred)",
      "execution_count": null,
      "outputs": []
    },
    {
      "metadata": {
        "trusted": true,
        "_uuid": "d963d6690b6f62fae943912bb70ff41f663ac271",
        "collapsed": true
      },
      "cell_type": "code",
      "source": "y_scores_gradient = y_probas_gradient[:, 1] # score = proba of positive class\nfpr_gradient, tpr_gradient, thresholds_gradient = roc_curve(y_train_1, y_scores_gradient)\n\nfrom sklearn.metrics import precision_recall_curve\nprecisions_gradient, recalls_gradient, thresholds_gradient = precision_recall_curve(y_train_1, y_scores_gradient)\n\ndef plot_precision_recall_vs_threshold(precisions_gradient, recalls_gradient, thresholds_gradient):\n    plt.plot(thresholds_gradient, precisions_gradient[:-1], \"b--\", label=\"Precision\", linewidth=2)\n    plt.plot(thresholds_gradient, recalls_gradient[:-1], \"g-\", label=\"Recall\", linewidth=2)\n    plt.axvline(x=0.38,color='red')\n    plt.xlabel(\"Threshold\", fontsize=16)\n    plt.legend(loc=\"upper left\", fontsize=16)\n    plt.ylim([0, 1])\n\nplt.figure(figsize=(8, 4))\nplot_precision_recall_vs_threshold(precisions_gradient, recalls_gradient, thresholds_gradient)\nplt.xlim([0, 1])\nplt.show()",
      "execution_count": null,
      "outputs": []
    },
    {
      "metadata": {
        "trusted": true,
        "_uuid": "c63fc3090ab461d4b30c9f649151bf889a064b9c",
        "collapsed": true
      },
      "cell_type": "code",
      "source": "y_train_pred_90 = (y_scores_gradient > 0.38)\nprint(precision_score(y_train_1, y_train_pred_90))\n\nprint(recall_score(y_train_1, y_train_pred_90))",
      "execution_count": null,
      "outputs": []
    },
    {
      "metadata": {
        "trusted": true,
        "_uuid": "f3472da7a6c33017aa53336e866c1e13bd766ac9",
        "collapsed": true
      },
      "cell_type": "code",
      "source": "plt.figure(figsize=(8, 6))\nplt.plot(fpr, tpr, \"b:\", linewidth=2, label=\"SGD\")\nplot_roc_curve(fpr_forest, tpr_forest, \"Random Forest\")\nplot_roc_curve(fpr_gradient, tpr_gradient, \"Gradient Boosting\")\nplt.legend(loc=\"lower right\", fontsize=16)\nplt.show()",
      "execution_count": null,
      "outputs": []
    },
    {
      "metadata": {
        "trusted": true,
        "_uuid": "389a145b6dd4add6a530d9204d02e3357834c2b4",
        "collapsed": true
      },
      "cell_type": "code",
      "source": "roc_auc_score(y_train_1, y_scores_gradient)",
      "execution_count": null,
      "outputs": []
    },
    {
      "metadata": {
        "trusted": true,
        "collapsed": true,
        "_uuid": "89bdc5b623b7a5668ac4127352e85a59c3569d4b"
      },
      "cell_type": "code",
      "source": "gradient_clf.fit(X_train, y_train_1)\ny_final = gradient_clf.predict_proba(X_test)\ny_final = pd.DataFrame(y_final)\n\npredict_mine = np.where(y_final > 0.38, 1, 0)\npredict_mine = pd.DataFrame(predict_mine)\npredict_mine = predict_mine[1]",
      "execution_count": null,
      "outputs": []
    },
    {
      "metadata": {
        "trusted": true,
        "collapsed": true,
        "_uuid": "8e1351f47556b2ffdc0d357b204cf09a2cc6516d"
      },
      "cell_type": "code",
      "source": "submission = pd.DataFrame({\n        \"PassengerId\": df_test[\"PassengerId\"],\n        \"Survived\": predict_mine\n    })\nsubmission.to_csv(\"Gradient.csv\", index=False)",
      "execution_count": null,
      "outputs": []
    },
    {
      "metadata": {
        "_uuid": "6e8161f39dad2e31733374769fb9f0ee535fa56a"
      },
      "cell_type": "markdown",
      "source": "AdaBoostClassifier\n"
    },
    {
      "metadata": {
        "trusted": true,
        "_uuid": "8a15fe780da219a5f509e52fef7af3da67fd14d7",
        "scrolled": false,
        "collapsed": true
      },
      "cell_type": "code",
      "source": "from sklearn.ensemble import AdaBoostClassifier\nfrom sklearn.tree import DecisionTreeClassifier\n\nDTC = DecisionTreeClassifier()\nada_clf = AdaBoostClassifier(DTC, random_state=42)\n\nada_param_grid = {\"base_estimator__criterion\" : [\"gini\", \"entropy\"],\n              \"base_estimator__splitter\" :   [\"best\", \"random\"],\n              \"algorithm\" : [\"SAMME\",\"SAMME.R\"],\n              \"n_estimators\" :[1,2],\n              \"learning_rate\":  [0.0001, 0.001, 0.01, 0.1, 0.2, 0.3,1.5]}\n\ngrid_search = GridSearchCV(ada_clf,param_grid = ada_param_grid, cv=5, scoring=\"accuracy\", n_jobs= 4, verbose = 1)\n\ngrid_search.fit(X_train,y_train_1)\n\nada_clf = grid_search.best_estimator_\n\nprint(grid_search.best_params_)\n\ny_probas_ada = cross_val_predict(ada_clf, X_train, y_train_1, cv=3,\n                                    method=\"predict_proba\")\n",
      "execution_count": null,
      "outputs": []
    },
    {
      "metadata": {
        "trusted": true,
        "_uuid": "865bcf3a8bec92cc95e6225979c88dd75ecd41e6",
        "collapsed": true
      },
      "cell_type": "code",
      "source": "cross_val_score(ada_clf, X_train, y_train_1, cv=3, scoring=\"accuracy\")\n#Seems to be better than the RandomForest",
      "execution_count": null,
      "outputs": []
    },
    {
      "metadata": {
        "_uuid": "41d2badfbda4f200ba830d66b857d288d85a78e3"
      },
      "cell_type": "markdown",
      "source": "Doesn't seems to be better than Gradient Boosting"
    },
    {
      "metadata": {
        "trusted": true,
        "_uuid": "47263e5832ab59e9810f9309efdc653b06ec3bde",
        "collapsed": true
      },
      "cell_type": "code",
      "source": "y_train_pred = cross_val_predict(ada_clf, X_train, y_train_1, cv=3)\n\nconfusion_matrix(y_train_1, y_train_pred)",
      "execution_count": null,
      "outputs": []
    },
    {
      "metadata": {
        "trusted": true,
        "_uuid": "e5cf5bf5be989dd7c6d59fcc520e09a82ed06492",
        "collapsed": true
      },
      "cell_type": "code",
      "source": "#Precision / recall\nfrom sklearn.metrics import precision_score, recall_score\n\nprecision_score(y_train_1, y_train_pred)#0.7470588235294118 74% des fois où il dit Survived : c'est vrai\nrecall_score(y_train_1, y_train_pred)#0.7426900584795322 74% de la totalité des Survived a été couverte\nf1_score(y_train_1, y_train_pred)",
      "execution_count": null,
      "outputs": []
    },
    {
      "metadata": {
        "trusted": true,
        "_uuid": "aa881d3f8e5c9e57637e4c0ad3ad890239b9bed4",
        "collapsed": true
      },
      "cell_type": "code",
      "source": "y_scores_ada = y_probas_ada[:, 1] # score = proba of positive class\nfpr_ada, tpr_ada, thresholds_adat = roc_curve(y_train_1, y_scores_ada)\n\nfrom sklearn.metrics import precision_recall_curve\nprecisions_ada, recalls_ada, thresholds_ada = precision_recall_curve(y_train_1, y_scores_ada)\n\ndef plot_precision_recall_vs_threshold(precisions_ada, recalls_ada, thresholds_ada):\n    plt.plot(thresholds_ada, precisions_ada[:-1], \"b--\", label=\"Precision\", linewidth=2)\n    plt.plot(thresholds_ada, recalls_ada[:-1], \"g-\", label=\"Recall\", linewidth=2)\n    plt.axvline(x=0.49,color='red')\n    plt.xlabel(\"Threshold\", fontsize=16)\n    plt.legend(loc=\"upper left\", fontsize=16)\n    plt.ylim([0, 1])\n\nplt.figure(figsize=(8, 4))\nplot_precision_recall_vs_threshold(precisions_ada, recalls_ada, thresholds_ada)\nplt.xlim([0, 1])\nplt.show()",
      "execution_count": null,
      "outputs": []
    },
    {
      "metadata": {
        "trusted": true,
        "_uuid": "101a26584d68fa7cce04f80050088c9578ff5c66",
        "collapsed": true
      },
      "cell_type": "code",
      "source": "y_train_pred_90 = (y_scores_ada > 0.49)\nprint(precision_score(y_train_1, y_train_pred_90))\n\nprint(recall_score(y_train_1, y_train_pred_90))",
      "execution_count": null,
      "outputs": []
    },
    {
      "metadata": {
        "trusted": true,
        "_uuid": "8122f85e94358979207ab591d45d05c3fcd09496",
        "collapsed": true
      },
      "cell_type": "code",
      "source": "plt.figure(figsize=(8, 6))\nplt.plot(fpr, tpr, \"b:\", linewidth=2, label=\"SGD\")\nplot_roc_curve(fpr_forest, tpr_forest, \"Random Forest\")\nplot_roc_curve(fpr_gradient, tpr_gradient, \"Gradient Boosting\")\nplot_roc_curve(fpr_ada, tpr_ada, \"AdaBoost\")\nplt.legend(loc=\"lower right\", fontsize=16)\nplt.show()",
      "execution_count": null,
      "outputs": []
    },
    {
      "metadata": {
        "trusted": true,
        "_uuid": "c706739721fd3836898a8fdaeb717c435e10bd24",
        "collapsed": true
      },
      "cell_type": "code",
      "source": "roc_auc_score(y_train_1, y_scores_ada)",
      "execution_count": null,
      "outputs": []
    },
    {
      "metadata": {
        "trusted": true,
        "collapsed": true,
        "_uuid": "a385149cca4e19e6ec92c7cabe65f44107fdcd7f"
      },
      "cell_type": "code",
      "source": "ada_clf.fit(X_train, y_train_1)\ny_final = ada_clf.predict_proba(X_test)\ny_final = pd.DataFrame(y_final)\n\npredict_mine = np.where(y_final > 0.50, 1, 0)\npredict_mine = pd.DataFrame(predict_mine)\npredict_mine = predict_mine[1]",
      "execution_count": null,
      "outputs": []
    },
    {
      "metadata": {
        "trusted": true,
        "collapsed": true,
        "_uuid": "95eedb84c00a50a6d80da8c787825dbeb850025d"
      },
      "cell_type": "code",
      "source": "submission = pd.DataFrame({\n        \"PassengerId\": df_test[\"PassengerId\"],\n        \"Survived\": predict_mine\n    })\nsubmission.to_csv(\"Ada.csv\", index=False)",
      "execution_count": null,
      "outputs": []
    },
    {
      "metadata": {
        "_uuid": "0d31c417bcd8f8c9ddbb76bf8d7f8369d9ffd8c9"
      },
      "cell_type": "markdown",
      "source": "Voting"
    },
    {
      "metadata": {
        "trusted": true,
        "collapsed": true,
        "_uuid": "2579fa6ca7c086d4488a2c25592bb68fd85362a4"
      },
      "cell_type": "code",
      "source": "\nfrom sklearn.ensemble import VotingClassifier\neclf1 = VotingClassifier(estimators=[\n        ('lr', forest_clf), ('rf', gradient_clf), ('adb', ada_clf)], voting='soft')\neclf1 = eclf1.fit(X_train, y_train_1)\npredictions=eclf1.predict(X_train)\npredictions\n\ntest_predictions=eclf1.predict(X_test)\n\ntest_predictions=test_predictions.astype(int)\nsubmission = pd.DataFrame({\n        \"PassengerId\": df_test[\"PassengerId\"],\n        \"Survived\": test_predictions\n    })\n\nsubmission.to_csv(\"titanic_submission.csv\", index=False)",
      "execution_count": null,
      "outputs": []
    }
  ],
  "metadata": {
    "kernelspec": {
      "display_name": "Python 3",
      "language": "python",
      "name": "python3"
    },
    "language_info": {
      "name": "python",
      "version": "3.6.5",
      "mimetype": "text/x-python",
      "codemirror_mode": {
        "name": "ipython",
        "version": 3
      },
      "pygments_lexer": "ipython3",
      "nbconvert_exporter": "python",
      "file_extension": ".py"
    }
  },
  "nbformat": 4,
  "nbformat_minor": 1
}