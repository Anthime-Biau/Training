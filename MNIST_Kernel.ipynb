{
  "cells": [
    {
      "metadata": {
        "_uuid": "8f2839f25d086af736a60e9eeb907d3b93b6e0e5",
        "_cell_guid": "b1076dfc-b9ad-4769-8c92-a6c4dae69d19",
        "trusted": true,
        "collapsed": true
      },
      "cell_type": "code",
      "source": "# This Python 3 environment comes with many helpful analytics libraries installed\n# It is defined by the kaggle/python docker image: https://github.com/kaggle/docker-python\n# For example, here's several helpful packages to load in \n\nimport numpy as np # linear algebra\nimport pandas as pd # data processing, CSV file I/O (e.g. pd.read_csv)\n\n# Input data files are available in the \"../input/\" directory.\n# For example, running this (by clicking run or pressing Shift+Enter) will list the files in the input directory\n\nimport os\nprint(os.listdir(\"../input\"))\n\n# Any results you write to the current directory are saved as output.",
      "execution_count": null,
      "outputs": []
    },
    {
      "metadata": {
        "trusted": true,
        "collapsed": true,
        "_uuid": "d5a3422ddaf316324af0d0f62a7f6543f9a21b41"
      },
      "cell_type": "code",
      "source": "df_train = pd.read_csv('../input/train.csv')\ndf_test = pd.read_csv('../input/test.csv')",
      "execution_count": null,
      "outputs": []
    },
    {
      "metadata": {
        "trusted": true,
        "collapsed": true,
        "_uuid": "e92169eb1d2cb19fa21f54191c7c188e227a56d0"
      },
      "cell_type": "code",
      "source": "print(0)",
      "execution_count": null,
      "outputs": []
    },
    {
      "metadata": {
        "_cell_guid": "79c7e3d0-c299-4dcb-8224-4455121ee9b0",
        "_uuid": "d629ff2d2480ee46fbb7e2d37f6b5fab8052498a",
        "trusted": true,
        "collapsed": true
      },
      "cell_type": "code",
      "source": "X = df_train.drop(['label'], axis=1)\nX_train = X.values\nY = df_train['label']\nY_np = Y.values\ny_train_3 = (Y_np == 3)\n\n%matplotlib inline\nimport matplotlib\nimport matplotlib.pyplot as plt\n\nsome_digit = X_train[14]\nsome_digit_image = some_digit.reshape(28, 28)\nplt.imshow(some_digit_image, cmap = matplotlib.cm.binary, interpolation=\"nearest\")\nplt.axis(\"off\")\nplt.show()",
      "execution_count": null,
      "outputs": []
    },
    {
      "metadata": {
        "trusted": true,
        "_uuid": "1e0b3ecf64a15bbc9f1d3367114aecbbbb31bf6b",
        "collapsed": true
      },
      "cell_type": "code",
      "source": "from sklearn.linear_model import SGDClassifier\nsgd_clf = SGDClassifier(random_state=42)\nsgd_clf.fit(X_train, y_train_3)\n\nsgd_clf.predict([some_digit])",
      "execution_count": null,
      "outputs": []
    },
    {
      "metadata": {
        "trusted": true,
        "_uuid": "e08eb9c9582e3858cf9ac36e3ffd49f8ef3d0754",
        "collapsed": true
      },
      "cell_type": "code",
      "source": "#Calcul of the exact rate : more than 90% ! But there's only 1 / 10 to have a 3\nfrom sklearn.model_selection import cross_val_score\ncross_val_score(sgd_clf, X_train, y_train_3, cv=3, scoring=\"accuracy\")",
      "execution_count": null,
      "outputs": []
    },
    {
      "metadata": {
        "trusted": true,
        "_uuid": "61e4f21a5acde3cc5c28da28adcde984caf5b5f0",
        "collapsed": true
      },
      "cell_type": "code",
      "source": "from sklearn.model_selection import cross_val_predict\n\ny_train_pred = cross_val_predict(sgd_clf, X_train, y_train_3, cv=3)\n\nfrom sklearn.metrics import confusion_matrix\n\nconfusion_matrix(y_train_3, y_train_pred)",
      "execution_count": null,
      "outputs": []
    },
    {
      "metadata": {
        "trusted": true,
        "_uuid": "a66c06bc85c372dfd4293682b1d4e6a3240707d5",
        "collapsed": true
      },
      "cell_type": "code",
      "source": "#Precision / recall\nfrom sklearn.metrics import precision_score, recall_score\n\nprecision_score(y_train_3, y_train_pred)#0.68497054911647348 68% des fois où il dit 5 : c'est vrai\nrecall_score(y_train_3, y_train_pred) #0.8285451620317168 83% de la totalité des 5 est prédite\n\n#On peut combiner precision_score avec le recall_score en une métrique unique : F1\nfrom sklearn.metrics import f1_score\nf1_score(y_train_3, y_train_pred)\n",
      "execution_count": null,
      "outputs": []
    },
    {
      "metadata": {
        "trusted": true,
        "_uuid": "d5e6c070a7e3929058f96bf3532a5cb915c40465",
        "collapsed": true
      },
      "cell_type": "code",
      "source": "y_scores = cross_val_predict(sgd_clf, X_train, y_train_3, cv=3,\n                             method=\"decision_function\")",
      "execution_count": null,
      "outputs": []
    },
    {
      "metadata": {
        "trusted": true,
        "_uuid": "6a27818334850d797f617dbd4bc4191d4cd6c46c",
        "collapsed": true
      },
      "cell_type": "code",
      "source": "from sklearn.metrics import precision_recall_curve\n\nprecisions, recalls, thresholds = precision_recall_curve(y_train_3, y_scores)\n\ndef plot_precision_recall_vs_threshold(precisions, recalls, thresholds):\n    plt.plot(thresholds, precisions[:-1], \"b--\", label=\"Precision\", linewidth=2)\n    plt.plot(thresholds, recalls[:-1], \"g-\", label=\"Recall\", linewidth=2)\n    plt.axvline(x=70000,color='red')\n    plt.xlabel(\"Threshold\", fontsize=16)\n    plt.legend(loc=\"upper left\", fontsize=16)\n    plt.ylim([0, 1])\n\nplt.figure(figsize=(8, 4))\nplot_precision_recall_vs_threshold(precisions, recalls, thresholds)\nplt.xlim([-700000, 700000])\nplt.show()",
      "execution_count": null,
      "outputs": []
    },
    {
      "metadata": {
        "trusted": true,
        "_uuid": "f7905d659dab0350e731467ca2fe9be18de2ee9e",
        "collapsed": true
      },
      "cell_type": "code",
      "source": "y_train_pred_90 = (y_scores > 70000)\nprint(precision_score(y_train_3, y_train_pred_90))\n\nprint(recall_score(y_train_3, y_train_pred_90))",
      "execution_count": null,
      "outputs": []
    },
    {
      "metadata": {
        "trusted": true,
        "_uuid": "126bd0baca12523deb59a11113e6a73b1658f8db",
        "collapsed": true
      },
      "cell_type": "code",
      "source": "from sklearn.metrics import roc_curve\n\nfpr, tpr, thresholds = roc_curve(y_train_3, y_scores)\ndef plot_roc_curve(fpr, tpr, label=None):\n    plt.plot(fpr, tpr, linewidth=2, label=label)\n    plt.plot([0, 1], [0, 1], 'k--')\n    plt.axis([0, 1, 0, 1])\n    plt.xlabel('False Positive Rate', fontsize=16)\n    plt.ylabel('True Positive Rate', fontsize=16)\n\nplt.figure(figsize=(8, 6))\nplot_roc_curve(fpr, tpr)\nplt.show()",
      "execution_count": null,
      "outputs": []
    },
    {
      "metadata": {
        "trusted": true,
        "_uuid": "64c947f755ce5bfbf30500acc290a869642a6bf1",
        "collapsed": true
      },
      "cell_type": "code",
      "source": "from sklearn.metrics import roc_auc_score\n\nroc_auc_score(y_train_3, y_scores)",
      "execution_count": null,
      "outputs": []
    },
    {
      "metadata": {
        "trusted": true,
        "_uuid": "8c6320c1420dc40fde61c0f06d147884e8c0ee43",
        "collapsed": true
      },
      "cell_type": "code",
      "source": "from  sklearn.ensemble  import RandomForestClassifier\nforest_clf = RandomForestClassifier(random_state=42)\ny_probas_forest = cross_val_predict(forest_clf, X_train, y_train_3, cv=3,\n                                    method=\"predict_proba\")\n\n",
      "execution_count": null,
      "outputs": []
    },
    {
      "metadata": {
        "trusted": true,
        "_uuid": "db378804be349bda9814220cbf191b496cea48bb",
        "collapsed": true
      },
      "cell_type": "code",
      "source": "y_scores_forest = y_probas_forest[:, 1] # score = proba of positive class\nfpr_forest, tpr_forest, thresholds_forest = roc_curve(y_train_3,y_scores_forest)\n\n",
      "execution_count": null,
      "outputs": []
    },
    {
      "metadata": {
        "trusted": true,
        "_uuid": "7e1306beee8b1c325a54c6d1b009d08cb3470723",
        "collapsed": true
      },
      "cell_type": "code",
      "source": "plt.figure(figsize=(8, 6))\nplt.plot(fpr, tpr, \"b:\", linewidth=2, label=\"SGD\")\nplot_roc_curve(fpr_forest, tpr_forest, \"Random Forest\")\nplt.legend(loc=\"lower right\", fontsize=16)\nplt.show()",
      "execution_count": null,
      "outputs": []
    },
    {
      "metadata": {
        "trusted": true,
        "_uuid": "80dae844b4ad2e5733478be46600da67b7400bf8",
        "collapsed": true
      },
      "cell_type": "code",
      "source": "roc_auc_score(y_train_3, y_scores_forest)\n",
      "execution_count": null,
      "outputs": []
    },
    {
      "metadata": {
        "trusted": true,
        "_uuid": "e421f2576b48ccfc947cde67cfb9faa5bdad1e5a",
        "scrolled": false,
        "collapsed": true
      },
      "cell_type": "code",
      "source": "forest_clf.fit(X_train, Y)\nforest_predict = pd.DataFrame(forest_clf.predict(df_test))\n\n",
      "execution_count": null,
      "outputs": []
    },
    {
      "metadata": {
        "trusted": true,
        "_uuid": "43e4ad9b248fd5c86fea244512c0f0ae617b31da",
        "collapsed": true
      },
      "cell_type": "code",
      "source": "submit = pd.read_csv('../input/sample_submission.csv')\nsubmit['Label'] = pd.DataFrame(forest_clf.predict(df_test))\nsubmit.to_csv('Random file.csv', sep=',', encoding = 'utf-8', index=False)\n",
      "execution_count": null,
      "outputs": []
    },
    {
      "metadata": {
        "trusted": true,
        "_uuid": "9aed4f325e5b7dbc2367afe0434e2ddc7372852b",
        "collapsed": true
      },
      "cell_type": "code",
      "source": "from sklearn.neighbors import KNeighborsClassifier\n\nknn_clf = KNeighborsClassifier(n_jobs=-1, weights='distance', n_neighbors=4)\n\n\nknn_clf.fit(X_train, Y)\nsubmitK = pd.read_csv('../input/sample_submission.csv')\nsubmitK['Label'] = pd.DataFrame(knn_clf.predict(df_test))\nsubmitK.to_csv('KNN file.csv', sep=',', encoding = 'utf-8', index=False)\n",
      "execution_count": null,
      "outputs": []
    }
  ],
  "metadata": {
    "kernelspec": {
      "display_name": "Python 3",
      "language": "python",
      "name": "python3"
    },
    "language_info": {
      "name": "python",
      "version": "3.6.5",
      "mimetype": "text/x-python",
      "codemirror_mode": {
        "name": "ipython",
        "version": 3
      },
      "pygments_lexer": "ipython3",
      "nbconvert_exporter": "python",
      "file_extension": ".py"
    }
  },
  "nbformat": 4,
  "nbformat_minor": 1
}