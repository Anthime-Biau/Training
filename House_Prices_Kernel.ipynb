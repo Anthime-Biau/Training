{
  "cells": [
    {
      "metadata": {
        "_cell_guid": "b1076dfc-b9ad-4769-8c92-a6c4dae69d19",
        "_uuid": "8f2839f25d086af736a60e9eeb907d3b93b6e0e5",
        "trusted": true,
        "collapsed": true
      },
      "cell_type": "code",
      "source": "# This Python 3 environment comes with many helpful analytics libraries installed\n# It is defined by the kaggle/python docker image: https://github.com/kaggle/docker-python\n# For example, here's several helpful packages to load in \n\nimport numpy as np # linear algebra\nimport pandas as pd # data processing, CSV file I/O (e.g. pd.read_csv)\n\n# Input data files are available in the \"../input/\" directory.\n# For example, running this (by clicking run or pressing Shift+Enter) will list the files in the input directory\n\nimport os\nprint(os.listdir(\"../input\"))\nimport pandas as pd\nimport matplotlib.pyplot as plt\nimport seaborn as sns\nimport numpy as np\nfrom scipy.stats import norm\nfrom sklearn.preprocessing import StandardScaler\nfrom scipy import stats\nfrom sklearn.tree import DecisionTreeRegressor\nimport warnings\nwarnings.filterwarnings('ignore')\n\n# Any results you write to the current directory are saved as output.",
      "execution_count": null,
      "outputs": []
    },
    {
      "metadata": {
        "_cell_guid": "7a56f5bf-e946-44bd-b642-b6dd2d19d983",
        "_uuid": "ac1c686e3920471aa60e2593e65b0f0795f0eab6",
        "collapsed": true,
        "trusted": true
      },
      "cell_type": "code",
      "source": "",
      "execution_count": null,
      "outputs": []
    },
    {
      "metadata": {
        "_cell_guid": "79c7e3d0-c299-4dcb-8224-4455121ee9b0",
        "_uuid": "d629ff2d2480ee46fbb7e2d37f6b5fab8052498a",
        "collapsed": true
      },
      "cell_type": "markdown",
      "source": "Mon premiers kernels\n"
    },
    {
      "metadata": {
        "_cell_guid": "1b54a829-9487-4a0c-8188-b093c8cb2912",
        "_uuid": "3539dd63894cdc94afc197829670359b99b1d390",
        "collapsed": true,
        "trusted": true
      },
      "cell_type": "code",
      "source": "df_train = pd.read_csv('../input/train.csv')\ndf_test = pd.read_csv('../input/test.csv')",
      "execution_count": null,
      "outputs": []
    },
    {
      "metadata": {
        "_cell_guid": "8c59e082-3a5d-4c38-89b5-2e46d9991e93",
        "_uuid": "588cbbd45fe68ad7963023adaa6f5c1ab9c80b86",
        "trusted": true,
        "collapsed": true
      },
      "cell_type": "code",
      "source": "df_train.columns.values",
      "execution_count": null,
      "outputs": []
    },
    {
      "metadata": {
        "_cell_guid": "ee09e250-dafc-49dd-b290-0b067568dba5",
        "_uuid": "f2914ab44b18e2234676d3511ac3198ef2afc7e3"
      },
      "cell_type": "markdown",
      "source": "First step : Filling missing values in train and test df"
    },
    {
      "metadata": {
        "scrolled": false,
        "collapsed": true,
        "_cell_guid": "50baacb1-39c8-4802-b946-6712f8115b39",
        "_uuid": "0deb7e26b1bc1da44fb88b3332a4c0deb0a6238b",
        "trusted": true
      },
      "cell_type": "code",
      "source": "# To check how many columns have missing values - this can be repeated to see the progress made\ndef show_missing():\n    missing = df_train.columns[df_train.isnull().any()].tolist()\n    return missing\n\ndef show_missing_test():\n    missing = df_test.columns[df_test.isnull().any()].tolist()\n    return missing\n\n",
      "execution_count": null,
      "outputs": []
    },
    {
      "metadata": {
        "_cell_guid": "224022a6-b896-4965-99e3-12bc7cd992bb",
        "_uuid": "83fe38e3372ac7f74e7d40c1ab60632502532fd5",
        "collapsed": true,
        "trusted": true
      },
      "cell_type": "code",
      "source": "# Looking at categorical values\ndef cat_exploration(column):\n    return print(df_train[column].value_counts())\n# Imputing the missing values\ndef cat_imputation(column, value):\n    df_train.loc[df_train[column].isnull(),column] = value\n    \n    # Looking at categorical values\ndef cat_exploration_test(column):\n    return print(df_test[column].value_counts())\n# Imputing the missing values\ndef cat_imputation_test(column, value):\n    df_test.loc[df_test[column].isnull(),column] = value",
      "execution_count": null,
      "outputs": []
    },
    {
      "metadata": {
        "_cell_guid": "66b5de72-54bd-484e-8679-19e5206caade",
        "_uuid": "855e767a2b95b12fa7936bfefc8101664ead2a8e"
      },
      "cell_type": "markdown",
      "source": "Lot Frontage"
    },
    {
      "metadata": {
        "_cell_guid": "7d5371d5-cdac-4937-a131-5b7d6c171ed2",
        "_uuid": "5a8fb439a3c50fa3ba8e5dcdd1b8a33c1eab2a54",
        "collapsed": true,
        "trusted": true
      },
      "cell_type": "code",
      "source": "df_train['SqrtLotArea']=np.sqrt(df_train['LotArea'])\ndf_train['LotFrontage'].corr(df_train['SqrtLotArea'])\ncond = df_train['LotFrontage'].isnull()\ndf_train.LotFrontage[cond]=df_train.SqrtLotArea[cond]\ndel df_train['SqrtLotArea']\n\n\ndf_test['SqrtLotArea']=np.sqrt(df_test['LotArea'])\ncond2 = df_test['LotFrontage'].isnull()\ndf_test.LotFrontage[cond2]=df_test.SqrtLotArea[cond2]\ndel df_test['SqrtLotArea']\n",
      "execution_count": null,
      "outputs": []
    },
    {
      "metadata": {
        "_cell_guid": "df397ba5-cf1d-4a2b-bf53-931cf0e813d2",
        "_uuid": "dbfc73bb8ea83b0832709b9d196dce14c9ebd140"
      },
      "cell_type": "markdown",
      "source": "MSZoning"
    },
    {
      "metadata": {
        "_cell_guid": "a9ac328e-910f-447c-b1e5-7fd0227c463d",
        "_uuid": "272e9b15af904cdd6078330f8c65cf0521e399b3",
        "collapsed": true,
        "trusted": true
      },
      "cell_type": "code",
      "source": "cat_imputation_test('MSZoning', 'RL')",
      "execution_count": null,
      "outputs": []
    },
    {
      "metadata": {
        "_cell_guid": "056e325a-1e84-4d54-a17e-d53503e95f62",
        "_uuid": "df3c080b659fce24754865f67d48578e1781fde1"
      },
      "cell_type": "markdown",
      "source": "Alley"
    },
    {
      "metadata": {
        "_cell_guid": "ce00e85a-2830-42e7-96f4-a62626249dc3",
        "_uuid": "ab83a802e10c2cbc27d450b531172303528fbff8",
        "trusted": true,
        "collapsed": true
      },
      "cell_type": "code",
      "source": "cat_exploration('Alley')\ncat_imputation('Alley','None')\n\ncat_exploration_test('Alley')\ncat_imputation_test('Alley','None')",
      "execution_count": null,
      "outputs": []
    },
    {
      "metadata": {
        "_cell_guid": "1161ecdb-1d4a-4e48-a923-ff5351674eee",
        "_uuid": "67b1c8917358d29608ede9ae5aa07d0192470f73"
      },
      "cell_type": "markdown",
      "source": "Utilities"
    },
    {
      "metadata": {
        "_cell_guid": "ba8b4e35-e4da-40b7-a638-cc0c2defba96",
        "_uuid": "7d3c4f1af83073712b793d0f80c14d8d6322e25a",
        "collapsed": true,
        "trusted": true
      },
      "cell_type": "code",
      "source": "cat_imputation_test('Utilities','AllPub')",
      "execution_count": null,
      "outputs": []
    },
    {
      "metadata": {
        "_cell_guid": "0575793d-dd71-48bb-bacf-9e492e768aba",
        "_uuid": "f3e276c96b6cb912678c24dcd4079c4163861966"
      },
      "cell_type": "markdown",
      "source": "MasVnrType & MasVnrArea"
    },
    {
      "metadata": {
        "_cell_guid": "f72c3923-1209-4836-b722-5cca31025dc5",
        "_uuid": "14248ebcb2ab2a8f2a5da8b0e187cc62ce628745",
        "trusted": true,
        "collapsed": true
      },
      "cell_type": "code",
      "source": "MasVnr_List = ['MasVnrType', 'MasVnrArea']\ndf_train[MasVnr_List][df_train['MasVnrType'].isnull() == True]\ncat_imputation('MasVnrType', 'None')\ncat_imputation('MasVnrArea', 0.0)\n\n\ncat_imputation_test('MasVnrArea', 0.0)\ncat_exploration_test('MasVnrType')\ndf_test[MasVnr_List][df_test['MasVnrArea']==198.0]\ncat_imputation_test('MasVnrType','BrkFace')\n",
      "execution_count": null,
      "outputs": []
    },
    {
      "metadata": {
        "_cell_guid": "49a11297-7f02-4b00-8457-862700b4c844",
        "_uuid": "5c770cf2309b1a4eab0879beb32e766baf6edc62"
      },
      "cell_type": "markdown",
      "source": "Exterior"
    },
    {
      "metadata": {
        "_cell_guid": "a5d2e2ab-70b7-454f-a4fd-3a79229a3086",
        "_uuid": "1eb630a1b7c444670ac0c5d26cc288d288dcb10b",
        "collapsed": true,
        "trusted": true
      },
      "cell_type": "code",
      "source": "List_ext = ['Exterior1st', 'Exterior2nd']\ndf_test[List_ext][df_test['Exterior1st'].isnull()==True]\ncat_imputation_test('Exterior1st', 'None')\ncat_imputation_test('Exterior2nd', 'None')",
      "execution_count": null,
      "outputs": []
    },
    {
      "metadata": {
        "_cell_guid": "2f925b61-8ef9-44d9-8e65-84ddd0471813",
        "_uuid": "6f3aa284a104e282c9c9b31d8a09879282b841b0"
      },
      "cell_type": "markdown",
      "source": "Basement"
    },
    {
      "metadata": {
        "scrolled": false,
        "collapsed": true,
        "_cell_guid": "8673af8e-85c9-461c-bf90-4419132f5d2b",
        "_uuid": "4a9d39c39cc48027ea2251cc740f02c632c7d4e2",
        "trusted": true
      },
      "cell_type": "code",
      "source": "Bsmt_List = ['BsmtQual','BsmtCond','BsmtExposure','BsmtFinType1','BsmtFinType2','BsmtFinSF1','BsmtFinSF2']\ndf_train[Bsmt_List][df_train['BsmtQual'].isnull() == True ]\n\nfor bsmt in Bsmt_List:\n    if 'FinSF' not in bsmt:\n        cat_imputation(bsmt, 'None')\n        \nBsmt_List_test = ['BsmtQual','BsmtCond','BsmtExposure','BsmtFinType1','BsmtFinType2','BsmtFinSF1','BsmtFinSF2', 'BsmtUnfSF', 'TotalBsmtSF', 'BsmtFullBath', 'BsmtHalfBath']\ndf_test.at[580, 'BsmtCond'] = 'TA'\ndf_test.at[725, 'BsmtCond'] = 'TA'\ndf_test.at[1064, 'BsmtCond'] = 'TA'\ndf_test[Bsmt_List_test][df_test['BsmtCond'].isnull()==True]\n\nBsmt_List_test_string = ['BsmtQual','BsmtCond','BsmtExposure','BsmtFinType1','BsmtFinType2']\nfor bsmt in Bsmt_List_test_string:\n    cat_imputation_test(bsmt,'None')\n\nBsmt_List_test_num = ['BsmtFinSF1','BsmtFinSF2', 'BsmtUnfSF', 'TotalBsmtSF', 'BsmtFullBath', 'BsmtHalfBath']\nfor bsmt in Bsmt_List_test_num:\n    cat_imputation_test(bsmt,0.0)\n    ",
      "execution_count": null,
      "outputs": []
    },
    {
      "metadata": {
        "_cell_guid": "a893eb7e-66c5-4c51-950d-433d786b7c1e",
        "_uuid": "47943ab9340f94946f7809981b82726b2d6f7eb9"
      },
      "cell_type": "markdown",
      "source": "Electrical"
    },
    {
      "metadata": {
        "_cell_guid": "031b092d-5100-4997-bc87-b967c18c8af8",
        "_uuid": "2ca5cf2160471aaee5cd62174b2dab46dbdee833",
        "collapsed": true,
        "trusted": true
      },
      "cell_type": "code",
      "source": "cat_imputation('Electrical', 'SBrkr')\ncat_imputation_test('Electrical', 'SBrkr')\n",
      "execution_count": null,
      "outputs": []
    },
    {
      "metadata": {
        "_cell_guid": "26330298-4c5b-451c-ac1b-ac4ae9c9311a",
        "_uuid": "fd41ef3d92c06eb03f7d6684ae0a01ce2a8b920f"
      },
      "cell_type": "markdown",
      "source": "Kitchen"
    },
    {
      "metadata": {
        "_cell_guid": "4930d76c-d492-40c0-b963-255a542f09fd",
        "_uuid": "4dc9976f15b5488eaac0df80a95e0a0aa71de984",
        "collapsed": true,
        "trusted": true
      },
      "cell_type": "code",
      "source": "\nKitchen_list= ['KitchenAbvGr', 'KitchenQual']\ndf_test[Kitchen_list][df_test['KitchenQual'].isnull()==True]\ncat_imputation_test('KitchenAbvGr', 1.0)\ncat_imputation_test('KitchenQual','TA')",
      "execution_count": null,
      "outputs": []
    },
    {
      "metadata": {
        "_cell_guid": "1fd7e214-ce2a-4b6b-b5bd-bd8a6693e74d",
        "_uuid": "96386db296841cd2edb645a4fead00aca98a2047"
      },
      "cell_type": "markdown",
      "source": "Functional"
    },
    {
      "metadata": {
        "_cell_guid": "1969244b-ec67-448a-b2fd-363c93570f47",
        "_uuid": "5c87a6474066f9b64e4d94b3ab348231b36d092c",
        "trusted": true,
        "collapsed": true
      },
      "cell_type": "code",
      "source": "cat_exploration_test('Functional')\ncat_imputation_test('Functional', 'Typ')\ncat_exploration_test('Functional')",
      "execution_count": null,
      "outputs": []
    },
    {
      "metadata": {
        "_cell_guid": "14f2f643-576f-49f4-b02b-9be01b7d767e",
        "_uuid": "9424171fcdf339789d8afc001a22719372e49410"
      },
      "cell_type": "markdown",
      "source": "Garage"
    },
    {
      "metadata": {
        "_cell_guid": "ab0ea43b-0746-45d0-87ed-ba6d233a6449",
        "_uuid": "e6ad4afd11ee47c4ae4d3901f08610975ebac450",
        "trusted": true,
        "collapsed": true
      },
      "cell_type": "code",
      "source": "garage_list = ['GarageType','GarageYrBlt','GarageFinish','GarageQual','GarageCond']\ndf_train[garage_list][df_train['GarageType'].isnull() == True]\n\nfor grg in garage_list:\n        cat_imputation(grg,'None')\n\ngarage_list_test = ['GarageType','GarageYrBlt','GarageFinish','GarageQual','GarageCond', 'GarageCars', 'GarageArea']\ndf_test.at[1116, 'GarageType'] = 'None'\ndf_test.at[1116, 'GarageCars'] = 0.0\ndf_test.at[1116, 'GarageArea'] = 0.0\ngarage_list_test_string = ['GarageType','GarageYrBlt','GarageFinish','GarageQual','GarageCond']\n\nfor grg in garage_list_test_string:\n                           cat_imputation_test(grg,'None')\n\ndf_test[garage_list_test][df_test['GarageFinish'].isnull() == True]",
      "execution_count": null,
      "outputs": []
    },
    {
      "metadata": {
        "_cell_guid": "48e5ed8a-ce1d-4ffd-bd0f-7610f74d3948",
        "_uuid": "c14abb7a2e9779d192faa2690ef03214d909c991"
      },
      "cell_type": "markdown",
      "source": "FireplaceQu"
    },
    {
      "metadata": {
        "_cell_guid": "54101beb-4e6f-41bc-9b03-42642beb13f7",
        "_uuid": "f1454ee66168ebeebde5ffddd26709cda456e6e8",
        "collapsed": true,
        "trusted": true
      },
      "cell_type": "code",
      "source": "df_train['Fireplaces'][df_train['FireplaceQu'].isnull()==True].describe()\ncat_imputation('FireplaceQu', 'None')\n\ncat_imputation_test('FireplaceQu', 'None')",
      "execution_count": null,
      "outputs": []
    },
    {
      "metadata": {
        "_cell_guid": "c7d6c024-587e-4dd2-95e9-8296c1b61290",
        "_uuid": "8982e715c2d9ea84384455f7bffda610b7c7b855"
      },
      "cell_type": "markdown",
      "source": "SaleType"
    },
    {
      "metadata": {
        "_cell_guid": "dfbc1f7b-3f33-43d1-ac94-9cd725bd873d",
        "_uuid": "3c24f3e2544d6b1e11f50fa8a963485ace424512",
        "collapsed": true,
        "trusted": true
      },
      "cell_type": "code",
      "source": "cat_imputation_test('SaleType', 'WD')",
      "execution_count": null,
      "outputs": []
    },
    {
      "metadata": {
        "_cell_guid": "3896ba84-8b78-47ed-a0ba-9bbee1308014",
        "_uuid": "3339ea2bec85060f586471174ccf66703b25ec59"
      },
      "cell_type": "markdown",
      "source": "Pool"
    },
    {
      "metadata": {
        "scrolled": true,
        "_cell_guid": "976a1d55-c88d-4152-ac94-7018ac7bc3aa",
        "_uuid": "fb438e8c50764a00eeaa64e66c107ed680722991",
        "trusted": true,
        "collapsed": true
      },
      "cell_type": "code",
      "source": "\ncat_imputation('PoolQC', 'None')\ncat_imputation_test('PoolQC', 'None')\n\ncat_imputation('Fence', 'None')\ncat_imputation_test('Fence', 'None')\ncat_imputation('MiscFeature', 'None')\ncat_imputation_test('MiscFeature', 'None')\n\ndf_test[show_missing_test()].isnull().sum()\n",
      "execution_count": null,
      "outputs": []
    },
    {
      "metadata": {
        "_cell_guid": "0838c0a3-22be-4550-b793-5895bc70aa96",
        "_uuid": "ae11256642be483c737a412e44dbe91d0dd4deef"
      },
      "cell_type": "markdown",
      "source": "Files without NaN values"
    },
    {
      "metadata": {
        "scrolled": true,
        "collapsed": true,
        "_cell_guid": "daba935e-6419-46b8-9cc4-b5569316c553",
        "_uuid": "d6e6e0b8e0ad9b926bb1a417abe684cec93afd74",
        "trusted": true
      },
      "cell_type": "code",
      "source": "df_train.to_csv('train_clean.csv', sep=',', encoding = 'utf-8')\ndf_test.to_csv('test_clean.csv', sep = ',', encoding = 'utf-8')\n\ndf_test_clean = pd.read_csv('test_clean.csv')\ndf_test_clean = df_test_clean.drop('Unnamed: 0',1)\ndf_test_clean.head()\n\ndf_train_clean = pd.read_csv('train_clean.csv')\ndf_train_clean = df_train_clean.drop('Unnamed: 0',1)\ndf_test_clean.describe()\ndf_train_clean.describe()\n\ntest_column = df_test_clean.columns\ntrain_column = df_train_clean.columns\n\n\n\n",
      "execution_count": null,
      "outputs": []
    },
    {
      "metadata": {
        "_cell_guid": "a10f8e28-3ac5-4dcc-9402-1e5a3422ed95",
        "_uuid": "7aa11c7234866b9c8c42915df97c603a3eca57ed"
      },
      "cell_type": "markdown",
      "source": "Encoding Values"
    },
    {
      "metadata": {
        "scrolled": false,
        "_cell_guid": "ebc16d94-67c0-43fc-99b9-5bdfea36347d",
        "_uuid": "9a7076b208af13de04bf0e24cf1cb15bdafcfb2d",
        "trusted": true,
        "collapsed": true
      },
      "cell_type": "code",
      "source": "target = df_train_clean.SalePrice\n#df_test_clean.at[1379, 'Electrical'] = 'None'\ncols_with_missing = [col for col in df_train_clean.columns \n                                 if df_train_clean[col].isnull().any()]\ncandidate_train_predictors = df_train_clean.drop(['Id', 'SalePrice'] + cols_with_missing, axis=1)\ncandidate_test_predictors = df_test_clean.drop(['Id'] + cols_with_missing, axis=1)\n\nprint(len(candidate_train_predictors.columns))\nprint(len(candidate_test_predictors.columns))\n# \"cardinality\" means the number of unique values in a column.\n# We use it as our only way to select categorical columns here. This is convenient, though\n# a little arbitrary.\nlow_cardinality_cols = [cname for cname in candidate_train_predictors.columns if \n                                candidate_train_predictors[cname].nunique() < 10 and\n                                candidate_train_predictors[cname].dtype == \"object\"]\nnumeric_cols = [cname for cname in candidate_train_predictors.columns if \n                                candidate_train_predictors[cname].dtype in ['int64', 'float64']]\nmy_cols = low_cardinality_cols + numeric_cols\ntrain_df = candidate_train_predictors[my_cols]\ntrain_df['label'] = 'train'\n\nscore_df = candidate_test_predictors[my_cols]\nscore_df['label'] = 'score'\n\nconcat_df = pd.concat([train_df,score_df])\n\nfeatures_df_nolabel = []\nfor x in concat_df.columns:\n    if x != 'label':\n        features_df_nolabel.append(x)\n\n# Create your dummies\nfeatures_df = pd.get_dummies(concat_df, columns= features_df_nolabel, dummy_na=True)\n\n# Split your data\ntrain_df = features_df[features_df['label'] == 'train']\nscore_df = features_df[features_df['label'] == 'score']\n\n# Drop your labels\ntrain_df = train_df.drop('label', axis=1)\nscore_df = score_df.drop('label', axis=1)\n#Toutes mes colonnes numériques et non numériques remodelée pour passer dans mon modèle\n#one_hot_encoded_training_predictors = pd.get_dummies(train_predictors)\n#one_hot_encoded_testing_predictors = pd.get_dummies(test_predictors)\n",
      "execution_count": null,
      "outputs": []
    },
    {
      "metadata": {
        "_cell_guid": "e4979fd9-b9e8-4abd-ac01-7fcc1617190c",
        "_uuid": "f0256f9dc0d530a9eb7bde23aea70ebf11642fa1",
        "trusted": true,
        "collapsed": true
      },
      "cell_type": "code",
      "source": "from math import log, exp\n\nX = train_df\ny = df_train_clean[\"SalePrice\"]\ny2 = df_train_clean[\"SalePrice\"].apply(log)\nfrom sklearn.tree import DecisionTreeRegressor\ndf_train_model = DecisionTreeRegressor()\ndf_train_model.fit(X,y)\n",
      "execution_count": null,
      "outputs": []
    },
    {
      "metadata": {
        "scrolled": true,
        "_cell_guid": "e65bf2c9-d2ab-4202-b8c8-61b8e04e509d",
        "_uuid": "f092299dd3d3dc8dec39710a8b7eb043ba1a3570",
        "trusted": true,
        "collapsed": true
      },
      "cell_type": "code",
      "source": "print(\"Making predictions for the following 5 houses:\")\nprint(\"The predictions are\")\nprint(df_train_model.predict(X.head()))\n\nprint(df_train_clean['SalePrice'].head())",
      "execution_count": null,
      "outputs": []
    },
    {
      "metadata": {
        "_cell_guid": "b2b21f73-c7e7-480a-b27c-8c22e9faced6",
        "_uuid": "c0124f0874b9d1a30a724d53a16722082aa9e3f6"
      },
      "cell_type": "markdown",
      "source": "On a les mêmes valeurs (bon signe)\nOn va maintenant essayer d'appliquer le modèle à test"
    },
    {
      "metadata": {
        "_kg_hide-input": false,
        "scrolled": false,
        "_kg_hide-output": false,
        "_cell_guid": "efa6fddf-b23b-40d8-9f26-f9e99cdc940e",
        "_uuid": "c7d0a31d8896548b913016ebea780f5816adbc20",
        "trusted": true,
        "collapsed": true
      },
      "cell_type": "code",
      "source": "X2 = score_df\nX3 = concat_df\n\ndf_submission = pd.read_csv('../input/sample_submission.csv')\nSale_pred = df_train_model.predict(X2)\ndf_submission['SalePrice']=Sale_pred\n\n\ndf_submission.to_csv('final file.csv', sep=',', encoding = 'utf-8', index=False)\n  \n",
      "execution_count": null,
      "outputs": []
    },
    {
      "metadata": {
        "scrolled": true,
        "_cell_guid": "45f9a0c0-3869-468e-9b55-b39b380656d6",
        "_uuid": "ed7601869c45a9c76371d698f858194737dfa0e8",
        "trusted": true,
        "collapsed": true
      },
      "cell_type": "code",
      "source": "from math import log, exp\ndf_train_log_saleprice = df_train\ndf_train_log_saleprice['SalePriceLog'] = df_train['SalePrice'].apply(log)\n",
      "execution_count": null,
      "outputs": []
    },
    {
      "metadata": {
        "_cell_guid": "0afebcf0-2467-4c56-9efe-352ddc8e3869",
        "_uuid": "3f37f05ac8a59ce9de8fa0523e5febf7bdd89d14"
      },
      "cell_type": "markdown",
      "source": "My first using of random forest"
    },
    {
      "metadata": {
        "_cell_guid": "c46e6254-da16-4c65-8f46-5d5a798fdde7",
        "_uuid": "0a8adf5324f1596df8ad8ac95f3382786d96f7c5",
        "trusted": true,
        "collapsed": true
      },
      "cell_type": "code",
      "source": "from sklearn.tree import DecisionTreeRegressor\nfrom sklearn.ensemble import RandomForestRegressor # import the random forest model\nX2 = score_df\nModel = RandomForestRegressor()\nModel.fit(X, y2)\nSale_pred = Model.predict(X2)\ndf_submission['SalePrice']=np.exp(Sale_pred)\n\nprint(df_submission['SalePrice'])\ndf_submission.to_csv('final file random log.csv', sep=',', encoding = 'utf-8', index=False)",
      "execution_count": null,
      "outputs": []
    },
    {
      "metadata": {
        "trusted": true,
        "_uuid": "a6f09a1e9ef29e3f1bb8bfb34cff3bdc576a067e",
        "collapsed": true
      },
      "cell_type": "code",
      "source": "#Cross validatoin sur le Random Forest\nfrom sklearn.model_selection import cross_val_score\n\nforest_scores = cross_val_score(Model, X, y2,\n                                scoring=\"neg_mean_squared_error\", cv=10)\nforest_rmse_scores = np.sqrt(-forest_scores)\n",
      "execution_count": null,
      "outputs": []
    },
    {
      "metadata": {
        "trusted": true,
        "_uuid": "9b73a6bb1cab1c75a475147fb154154747d6da84",
        "collapsed": true
      },
      "cell_type": "code",
      "source": "from sklearn.model_selection import GridSearchCV\n\nparam_grid = [\n    # try 12 (3×4) combinations of hyperparameters\n    {'n_estimators': [100, 200, 300], 'max_features': [8, 10, 12, 14]},\n    # then try 6 (2×3) combinations with bootstrap set as False\n    {'bootstrap': [False], 'n_estimators': [3, 10], 'max_features': [2, 3, 4]},\n  ]\n\nforest_reg = RandomForestRegressor(random_state=42)\n# train across 5 folds, that's a total of (12+6)*5=90 rounds of training \ngrid_search = GridSearchCV(Model, param_grid, cv=5,\n                           scoring='neg_mean_squared_error', return_train_score=True)\ngrid_search.fit(X, y2)",
      "execution_count": null,
      "outputs": []
    },
    {
      "metadata": {
        "trusted": true,
        "_uuid": "58f4243c0bf9a8efea79d5b9587b5c833164cec0",
        "collapsed": true
      },
      "cell_type": "code",
      "source": "grid_search.best_params_",
      "execution_count": null,
      "outputs": []
    },
    {
      "metadata": {
        "trusted": true,
        "_uuid": "6470565c0399ede3e4c6c645da92e2ded33a5724",
        "collapsed": true
      },
      "cell_type": "code",
      "source": "grid_search.best_estimator_",
      "execution_count": null,
      "outputs": []
    },
    {
      "metadata": {
        "trusted": true,
        "_uuid": "783894099b4187afd9efb4a2afe2a5a1ba7111b8",
        "collapsed": true
      },
      "cell_type": "code",
      "source": "cvres = grid_search.cv_results_\nfor mean_score, params in zip(cvres[\"mean_test_score\"], cvres[\"params\"]):\n    print(np.sqrt(-mean_score), params)",
      "execution_count": null,
      "outputs": []
    },
    {
      "metadata": {
        "trusted": true,
        "_uuid": "e1330874d0a0cadb8f7db699e338d8e50c3069b2",
        "collapsed": true
      },
      "cell_type": "code",
      "source": "pd.DataFrame(grid_search.cv_results_)",
      "execution_count": null,
      "outputs": []
    },
    {
      "metadata": {
        "trusted": true,
        "_uuid": "15ab6b4d164e72c1693503914020c36aadbb77bd",
        "collapsed": true
      },
      "cell_type": "code",
      "source": "from sklearn.model_selection import RandomizedSearchCV\nfrom scipy.stats import randint\n\nparam_distribs = {\n        'n_estimators': randint(low=50, high=150),\n        'max_features': randint(low=7, high=8),\n    }\n\nforest_reg = RandomForestRegressor(random_state=42)\nrnd_search = RandomizedSearchCV(Model, param_distributions=param_distribs,\n                                n_iter=10, cv=5, scoring='neg_mean_squared_error', random_state=42)\nrnd_search.fit(X, y2)",
      "execution_count": null,
      "outputs": []
    },
    {
      "metadata": {
        "trusted": true,
        "_uuid": "b8123825e494a8f681529ea64eaf9eed5909db67",
        "collapsed": true
      },
      "cell_type": "code",
      "source": "cvres = rnd_search.cv_results_\nfor mean_score, params in zip(cvres[\"mean_test_score\"], cvres[\"params\"]):\n    print(np.sqrt(-mean_score), params)",
      "execution_count": null,
      "outputs": []
    },
    {
      "metadata": {
        "trusted": true,
        "collapsed": true,
        "_uuid": "4effabf04878522d96b7799edc7a7bf88007e910"
      },
      "cell_type": "code",
      "source": "feature_importances = grid_search.best_estimator_.feature_importances_\n",
      "execution_count": null,
      "outputs": []
    },
    {
      "metadata": {
        "trusted": true,
        "_uuid": "4ab7e62ce53412dff1ff4687e9637ac3c6fca562",
        "collapsed": true
      },
      "cell_type": "code",
      "source": "final_model = grid_search.best_estimator_\nfinal_predictions = final_model.predict(X)\nfinal_predictions_df = pd.DataFrame(final_predictions)\n",
      "execution_count": null,
      "outputs": []
    },
    {
      "metadata": {
        "trusted": true,
        "_uuid": "3ee6085b746ea83da0020b84f30c1f451b35e794",
        "_kg_hide-output": false,
        "scrolled": true,
        "collapsed": true
      },
      "cell_type": "code",
      "source": "\nfinal_predictions_df['SalePrice']=np.exp(final_predictions)\n\n\nprint(final_predictions_df['SalePrice'])\nfinal_predictions_df.to_csv('final file random log2.csv', sep=',', encoding = 'utf-8', index=False)",
      "execution_count": null,
      "outputs": []
    }
  ],
  "metadata": {
    "language_info": {
      "name": "python",
      "version": "3.6.5",
      "mimetype": "text/x-python",
      "codemirror_mode": {
        "name": "ipython",
        "version": 3
      },
      "pygments_lexer": "ipython3",
      "nbconvert_exporter": "python",
      "file_extension": ".py"
    },
    "kernelspec": {
      "display_name": "Python 3",
      "language": "python",
      "name": "python3"
    }
  },
  "nbformat": 4,
  "nbformat_minor": 1
}