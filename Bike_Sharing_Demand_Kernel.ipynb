{
  "cells": [
    {
      "metadata": {
        "_uuid": "8f2839f25d086af736a60e9eeb907d3b93b6e0e5",
        "_cell_guid": "b1076dfc-b9ad-4769-8c92-a6c4dae69d19",
        "trusted": true,
        "collapsed": true
      },
      "cell_type": "code",
      "source": "# This Python 3 environment comes with many helpful analytics libraries installed\n# It is defined by the kaggle/python docker image: https://github.com/kaggle/docker-python\n# For example, here's several helpful packages to load in \n\nimport numpy as np # linear algebra\nimport pandas as pd # data processing, CSV file I/O (e.g. pd.read_csv)\n\n# Input data files are available in the \"../input/\" directory.\n# For example, running this (by clicking run or pressing Shift+Enter) will list the files in the input directory\n\nimport os\nprint(os.listdir(\"../input\"))\nimport pandas as pd\nimport matplotlib.pyplot as plt\nimport seaborn as sns\nimport numpy as np\nfrom scipy.stats import norm\nfrom sklearn.preprocessing import StandardScaler\nfrom scipy import stats\nfrom sklearn.tree import DecisionTreeRegressor\nimport warnings\nwarnings.filterwarnings('ignore')",
      "execution_count": null,
      "outputs": []
    },
    {
      "metadata": {
        "_cell_guid": "79c7e3d0-c299-4dcb-8224-4455121ee9b0",
        "_uuid": "d629ff2d2480ee46fbb7e2d37f6b5fab8052498a",
        "trusted": true,
        "collapsed": true
      },
      "cell_type": "code",
      "source": "df_train = pd.read_csv('../input/train.csv')\ndf_test = pd.read_csv('../input/test.csv')",
      "execution_count": null,
      "outputs": []
    },
    {
      "metadata": {
        "trusted": true,
        "_uuid": "a9fa7319caa8f9b9c17f42123acc8af99d4db414",
        "collapsed": true
      },
      "cell_type": "code",
      "source": "print(df_train.columns.values)\nprint(df_test.columns.values)\n\n#3 more features in the train set.",
      "execution_count": null,
      "outputs": []
    },
    {
      "metadata": {
        "_uuid": "962826714ef56215897515f37f619ba09acc57ff"
      },
      "cell_type": "markdown",
      "source": "casual - number of non-registered user rentals initiated\n\nregistered - number of registered user rentals initiated\n\ncount - number of total rentals\n"
    },
    {
      "metadata": {
        "trusted": true,
        "_uuid": "fd6646fa14cf3dc32ebe6b604125fd68ba9571d1",
        "collapsed": true
      },
      "cell_type": "code",
      "source": "df_train[:10]",
      "execution_count": null,
      "outputs": []
    },
    {
      "metadata": {
        "trusted": true,
        "_uuid": "7b246c227167cbb44b3d4bc9059c0a9c5d9aaad8",
        "collapsed": true
      },
      "cell_type": "code",
      "source": "#Custom Transformer which convert datetime column into hour, day, month, year, dayofweek columns\nfrom sklearn.base import TransformerMixin\nclass TimeTransformer(TransformerMixin):\n    def fit(self, X, y=None):\n        return self\n\n    def transform(self, X):\n        temp=pd.DatetimeIndex(X['datetime'])\n        cols = ['hour', 'day', 'month', 'year', 'dayofweek']\n        X['hour'] = temp.hour\n        X['day'] = temp.day\n        X['month'] = temp.month\n        X['year'] = temp.year\n        X['dayofweek'] = temp.dayofweek\n        return X",
      "execution_count": null,
      "outputs": []
    },
    {
      "metadata": {
        "trusted": true,
        "collapsed": true,
        "_uuid": "03a9cd6172c649d0dfa0ea6ab3ce6faaaa8cbc9b"
      },
      "cell_type": "code",
      "source": "#Custom Transformer for dop a column\nclass DropTransformer(TransformerMixin):\n    def fit(self, X, y=None):\n        return self\n    def transform(self, X):\n        Xnew = X.drop(['datetime'], axis=1)\n        return Xnew",
      "execution_count": null,
      "outputs": []
    },
    {
      "metadata": {
        "trusted": true,
        "_uuid": "e3895f494a96e5c1e8597ef3a495f8569c46315c",
        "collapsed": true
      },
      "cell_type": "code",
      "source": "#Custom Transformer change the category of a column\nclass CategoryTransformer(TransformerMixin):\n    def fit(self, X, y=None):\n        return self\n    def transform(self, X):\n        categoryVariableList = [\"hour\",\"dayofweek\",\"month\",\"season\",\"weather\",\"holiday\",\"workingday\"]\n        for var in categoryVariableList:\n            X[var] = df_train[var].astype(\"category\")\n        return X",
      "execution_count": null,
      "outputs": []
    },
    {
      "metadata": {
        "trusted": true,
        "_uuid": "4cf79fa88f19cf91d22381948ce3ec445a0f04f6",
        "collapsed": true
      },
      "cell_type": "code",
      "source": "#Pipeline\nfrom sklearn.pipeline import Pipeline\npipeline = Pipeline([\n        ('time', TimeTransformer()),\n        ('drop', DropTransformer()),\n        ('category', CategoryTransformer()),   \n    ])\n\ndf_train_tr = pipeline.fit_transform(df_train)\ndf_test_tr = pipeline.transform(df_test)",
      "execution_count": null,
      "outputs": []
    },
    {
      "metadata": {
        "trusted": true,
        "scrolled": false,
        "_uuid": "1fd626007c5595ddc6a4bf22c73a26d31a87730b",
        "collapsed": true
      },
      "cell_type": "code",
      "source": "#Correlation matrix between feetures\ncorr_matrix=df_train.corr()\ncorr_matrix['count']",
      "execution_count": null,
      "outputs": []
    },
    {
      "metadata": {
        "_uuid": "596821d6c05cc3daffa78cf7b805e3f69e0f05d2"
      },
      "cell_type": "markdown",
      "source": "Lot of linear relation : \nTemp & Temp proportional\nHour\nHumidity"
    },
    {
      "metadata": {
        "trusted": true,
        "scrolled": true,
        "_uuid": "ae47ecb2f2ea12d838be6f5b301a8ad00ffdcbca",
        "collapsed": true
      },
      "cell_type": "code",
      "source": "sns.heatmap(corr_matrix)",
      "execution_count": null,
      "outputs": []
    },
    {
      "metadata": {
        "trusted": true,
        "_uuid": "1e22276aeb1bbc84b179748f5ef0174dbb8b8bd3",
        "collapsed": true
      },
      "cell_type": "code",
      "source": "from math import log, exp\n\nX = df_train.drop(['casual', 'registered', 'count', 'datetime'], axis=1)\nY = df_train['count']\nYlog = df_train[\"count\"].apply(log)\n",
      "execution_count": null,
      "outputs": []
    },
    {
      "metadata": {
        "trusted": true,
        "_uuid": "30781b17fb7642f7c3c3157ceb0415ff62eac0d4",
        "collapsed": true
      },
      "cell_type": "code",
      "source": "#On test un autre modèle parce que là c'est pas ouf\n#Decition Tree\nfrom sklearn.tree import DecisionTreeRegressor\n\ntree_reg = DecisionTreeRegressor(random_state=42)\ntree_reg.fit(X, Y)\n\n#Pas d'erreur\ntree_reg_predictions = tree_reg.predict(X)\ntree_mse = mean_squared_error(labels, tree_reg_predictions)\ntree_rmse = np.sqrt(tree_mse)\ntree_rmse",
      "execution_count": null,
      "outputs": []
    },
    {
      "metadata": {
        "trusted": true,
        "_uuid": "6c49cea8fc60bc98208f15747a23c9fe7c9f7f22",
        "collapsed": true
      },
      "cell_type": "code",
      "source": "from sklearn.metrics import mean_absolute_error\n\nlin_mae = mean_absolute_error(Y, tree_reg_predictions)\nlin_mae",
      "execution_count": null,
      "outputs": []
    },
    {
      "metadata": {
        "trusted": true,
        "_uuid": "3f6b1981255d229e07412c6d713f81af2c878a72",
        "collapsed": true
      },
      "cell_type": "code",
      "source": "df_test_datetime = df_test['datetime']\nX2 = df_test.drop(['datetime'], axis=1)\ntree_reg_predictions_test = tree_reg.predict(X2)\ntree_reg_predictions_test\ntree_reg_predictions_test_df = pd.DataFrame(tree_reg_predictions_test)\ntree_reg_predictions_test_df['count'] = tree_reg_predictions_test_df\ndf=pd.DataFrame({'datetime':df_test_datetime, 'count':tree_reg_predictions_test})\ndf.to_csv('Decision file.csv', sep=',', encoding = 'utf-8', index=False)\n",
      "execution_count": null,
      "outputs": []
    },
    {
      "metadata": {
        "trusted": true,
        "scrolled": true,
        "_uuid": "75137984c4f8cfa5e8b461e4d599ea935680394d",
        "collapsed": true
      },
      "cell_type": "code",
      "source": "#On fit la random forest\nfrom sklearn.ensemble import RandomForestRegressor\n\nforest_reg = RandomForestRegressor(random_state=42)\nforest_reg_log =RandomForestRegressor(random_state=42)\n#forest_reg.fit(X, Y)\nforest_reg_log.fit(X, Ylog)",
      "execution_count": null,
      "outputs": []
    },
    {
      "metadata": {
        "trusted": true,
        "_uuid": "8351f857fdd13bf1263617629224e6d1d5b3e03d",
        "collapsed": true
      },
      "cell_type": "code",
      "source": "def display_scores(scores):\n    print(\"Scores:\", scores)\n    print(\"Mean:\", scores.mean())\n    print(\"Standard deviation:\", scores.std())\n\n#Cross validatoin sur le Random Forest\nfrom sklearn.model_selection import cross_val_score\n\nforest_scores = cross_val_score(forest_reg, X, Y,\n                                scoring=\"neg_mean_squared_error\", cv=10)\nforest_rmse_scores = np.sqrt(-forest_scores)\ndisplay_scores(forest_rmse_scores)",
      "execution_count": null,
      "outputs": []
    },
    {
      "metadata": {
        "trusted": true,
        "scrolled": false,
        "_uuid": "063707366080fe2e2086f4533710edcf75ab60f1",
        "collapsed": true
      },
      "cell_type": "code",
      "source": "from sklearn.model_selection import GridSearchCV\n\nparam_grid = [\n    # try 12 (3×4) combinations of hyperparameters\n    {'n_estimators': [20, 30, 40], 'max_features': [6, 8, 10, 12]},\n    # then try 6 (2×3) combinations with bootstrap set as False\n    {'bootstrap': [False], 'n_estimators': [20, 30], 'max_features': [6, 8, 10]},\n  ]\n\nforest_reg = RandomForestRegressor(random_state=42)\n# train across 5 folds, that's a total of (12+6)*5=90 rounds of training \ngrid_search = GridSearchCV(forest_reg, param_grid, cv=5,\n                           scoring='neg_mean_squared_error', return_train_score=True)\ngrid_search.fit(X, Y)\ngrid_search_log = GridSearchCV(forest_reg_log, param_grid, cv=5,\n                           scoring='neg_mean_squared_error', return_train_score=True)\ngrid_search_log.fit(X,Ylog)",
      "execution_count": null,
      "outputs": []
    },
    {
      "metadata": {
        "trusted": true,
        "_uuid": "c31fbdec904493d7af2d53ecfaa57280c9d0054d",
        "collapsed": true
      },
      "cell_type": "code",
      "source": "forest_reg_best = grid_search.best_estimator_\nforest_reg_best_log = grid_search_log.best_estimator_",
      "execution_count": null,
      "outputs": []
    },
    {
      "metadata": {
        "trusted": true,
        "_uuid": "3324a919043095b05d71b32ac16635d9d504bbd7",
        "collapsed": true
      },
      "cell_type": "code",
      "source": "grid_search.best_params_\ngrid_search_log.best_params_",
      "execution_count": null,
      "outputs": []
    },
    {
      "metadata": {
        "trusted": true,
        "_uuid": "6405f90c2d214ca932991667d908a4119907e013",
        "collapsed": true
      },
      "cell_type": "code",
      "source": "cvres = grid_search.cv_results_\nfor mean_score, params in zip(cvres[\"mean_test_score\"], cvres[\"params\"]):\n    print(np.sqrt(-mean_score), params)",
      "execution_count": null,
      "outputs": []
    },
    {
      "metadata": {
        "trusted": true,
        "_uuid": "93174b22e87184eada42282c016ebc7cb3c0f28a",
        "collapsed": true
      },
      "cell_type": "code",
      "source": "pd.DataFrame(grid_search.cv_results_)",
      "execution_count": null,
      "outputs": []
    },
    {
      "metadata": {
        "trusted": true,
        "_uuid": "511931559f06c3f35fd908482e680d063a2ce926",
        "collapsed": true
      },
      "cell_type": "code",
      "source": "#forest_reg_predictions_test = forest_reg.predict(X2)\nforest_reg_predictions_test_log = forest_reg_log.predict(X2)\n#forest_reg_prediction_test_best = forest_reg_best.predict(X2)\nforest_reg_prediction_test_best_log = forest_reg_best_log.predict(X2)\n\nforest_reg_predictions_test_log=np.exp(forest_reg_predictions_test_log)\nforest_reg_predictions_test_best_log=np.exp(forest_reg_prediction_test_best_log)\n\n#df=pd.DataFrame({'datetime':df_test_datetime, 'count':forest_reg_predictions_test})\n#df_best=pd.DataFrame({'datetime':df_test_datetime, 'count':forest_reg_predictions_test_best})\ndf_log=pd.DataFrame({'datetime':df_test_datetime, 'count':forest_reg_predictions_test_log})\ndf_best_log = pd.DataFrame({'datetime':df_test_datetime, 'count':forest_reg_predictions_test_best_log})\n\n#df.to_csv('Forest file.csv', sep=',', encoding = 'utf-8', index=False)\n#df_best.to_csv('Forest best file.csv', sep=',', encoding = 'utf-8', index=False)\ndf_log.to_csv('Forest log file.csv', sep=',', encoding = 'utf-8', index=False)\ndf_best_log.to_csv('Forest best log file.csv', sep=',', encoding = 'utf-8', index=False)\n",
      "execution_count": null,
      "outputs": []
    },
    {
      "metadata": {
        "trusted": true,
        "collapsed": true,
        "_uuid": "2bd7e711d6266eb18aeb834fcd60f5cf5f23574c"
      },
      "cell_type": "code",
      "source": "from sklearn.ensemble import GradientBoostingRegressor\n\nGb_reg = GradientBoostingRegressor()\nGb_reg.fit (X, Y)\nGb_reg_predictions = Gb_reg.predict(X2)\ngb_df = pd.DataFrame({'datetime':df_test_datetime, 'count':Gb_reg_predictions})\ngb_df.to_csv('Gb file.csv', sep=',', encoding = 'utf-8', index=False)",
      "execution_count": null,
      "outputs": []
    },
    {
      "metadata": {
        "trusted": true,
        "_uuid": "0a4b554c27f465cac558b9fef83e79ad32030e93",
        "collapsed": true
      },
      "cell_type": "code",
      "source": "from xgboost import XGBRegressor\n\nxgb_reg = XGBRegressor()\nxgb_reg.fit(X, Y)\nxgb_reg_predictions = xgb_reg.predict(X2)\nxgb_df = pd.DataFrame({'datetime':df_test_datetime, 'count':xgb_reg_predictions})\nxgb_df.to_csv('Xgb file.csv', sep=',', encoding = 'utf-8', index=False)\n",
      "execution_count": null,
      "outputs": []
    }
  ],
  "metadata": {
    "kernelspec": {
      "display_name": "Python 3",
      "language": "python",
      "name": "python3"
    },
    "language_info": {
      "name": "python",
      "version": "3.6.5",
      "mimetype": "text/x-python",
      "codemirror_mode": {
        "name": "ipython",
        "version": 3
      },
      "pygments_lexer": "ipython3",
      "nbconvert_exporter": "python",
      "file_extension": ".py"
    }
  },
  "nbformat": 4,
  "nbformat_minor": 1
}