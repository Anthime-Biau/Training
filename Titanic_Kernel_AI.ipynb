{
 "cells": [
  {
   "cell_type": "code",
   "execution_count": 24,
   "metadata": {
    "_cell_guid": "b1076dfc-b9ad-4769-8c92-a6c4dae69d19",
    "_uuid": "8f2839f25d086af736a60e9eeb907d3b93b6e0e5"
   },
   "outputs": [],
   "source": [
    "# This Python 3 environment comes with many helpful analytics libraries installed\n",
    "# It is defined by the kaggle/python docker image: https://github.com/kaggle/docker-python\n",
    "# For example, here's several helpful packages to load in \n",
    "\n",
    "import numpy as np # linear algebra\n",
    "import pandas as pd # data processing, CSV file I/O (e.g. pd.read_csv)\n",
    "\n",
    "# Input data files are available in the \"../input/\" directory.\n",
    "# For example, running this (by clicking run or pressing Shift+Enter) will list the files in the input directory\n",
    "\n",
    "import os\n",
    "#print(os.listdir(\"../input\"))\n",
    "import matplotlib.pyplot as plt\n",
    "import pandas as pd\n",
    "\n",
    "\n",
    "from sklearn.tree import DecisionTreeClassifier\n",
    "from sklearn.metrics import roc_curve\n",
    "from sklearn.model_selection import cross_val_predict\n",
    "from sklearn.metrics import roc_curve\n",
    "from sklearn.metrics import accuracy_score\n",
    "\n",
    "\n",
    "import time\n",
    "\n",
    "# Any results you write to the current directory are saved as output."
   ]
  },
  {
   "cell_type": "code",
   "execution_count": 2,
   "metadata": {
    "_cell_guid": "79c7e3d0-c299-4dcb-8224-4455121ee9b0",
    "_uuid": "d629ff2d2480ee46fbb7e2d37f6b5fab8052498a"
   },
   "outputs": [],
   "source": [
    "df_train = pd.read_csv('titanic.csv')\n",
    "Y = df_train['Survived']"
   ]
  },
  {
   "cell_type": "code",
   "execution_count": 3,
   "metadata": {},
   "outputs": [],
   "source": [
    "df_test = df_train[:200]\n",
    "df_train = df_train[0:691]"
   ]
  },
  {
   "cell_type": "markdown",
   "metadata": {
    "_uuid": "df31015821cd88a5bba2316b7930f32e5c424ee6"
   },
   "source": [
    "## Overview"
   ]
  },
  {
   "cell_type": "code",
   "execution_count": 4,
   "metadata": {
    "_uuid": "31376b22f9c84a3dfe80ebbecb6e4aaf26c21663"
   },
   "outputs": [
    {
     "data": {
      "text/html": [
       "<div>\n",
       "<style scoped>\n",
       "    .dataframe tbody tr th:only-of-type {\n",
       "        vertical-align: middle;\n",
       "    }\n",
       "\n",
       "    .dataframe tbody tr th {\n",
       "        vertical-align: top;\n",
       "    }\n",
       "\n",
       "    .dataframe thead th {\n",
       "        text-align: right;\n",
       "    }\n",
       "</style>\n",
       "<table border=\"1\" class=\"dataframe\">\n",
       "  <thead>\n",
       "    <tr style=\"text-align: right;\">\n",
       "      <th></th>\n",
       "      <th>PassengerId</th>\n",
       "      <th>Survived</th>\n",
       "      <th>Pclass</th>\n",
       "      <th>Name</th>\n",
       "      <th>Sex</th>\n",
       "      <th>Age</th>\n",
       "      <th>SibSp</th>\n",
       "      <th>Parch</th>\n",
       "      <th>Ticket</th>\n",
       "      <th>Fare</th>\n",
       "      <th>Cabin</th>\n",
       "      <th>Embarked</th>\n",
       "    </tr>\n",
       "  </thead>\n",
       "  <tbody>\n",
       "    <tr>\n",
       "      <th>0</th>\n",
       "      <td>1</td>\n",
       "      <td>0</td>\n",
       "      <td>3</td>\n",
       "      <td>Braund, Mr. Owen Harris</td>\n",
       "      <td>male</td>\n",
       "      <td>22.0</td>\n",
       "      <td>1</td>\n",
       "      <td>0</td>\n",
       "      <td>A/5 21171</td>\n",
       "      <td>7.2500</td>\n",
       "      <td>NaN</td>\n",
       "      <td>S</td>\n",
       "    </tr>\n",
       "    <tr>\n",
       "      <th>1</th>\n",
       "      <td>2</td>\n",
       "      <td>1</td>\n",
       "      <td>1</td>\n",
       "      <td>Cumings, Mrs. John Bradley (Florence Briggs Th...</td>\n",
       "      <td>female</td>\n",
       "      <td>38.0</td>\n",
       "      <td>1</td>\n",
       "      <td>0</td>\n",
       "      <td>PC 17599</td>\n",
       "      <td>71.2833</td>\n",
       "      <td>C85</td>\n",
       "      <td>C</td>\n",
       "    </tr>\n",
       "    <tr>\n",
       "      <th>2</th>\n",
       "      <td>3</td>\n",
       "      <td>1</td>\n",
       "      <td>3</td>\n",
       "      <td>Heikkinen, Miss. Laina</td>\n",
       "      <td>female</td>\n",
       "      <td>26.0</td>\n",
       "      <td>0</td>\n",
       "      <td>0</td>\n",
       "      <td>STON/O2. 3101282</td>\n",
       "      <td>7.9250</td>\n",
       "      <td>NaN</td>\n",
       "      <td>S</td>\n",
       "    </tr>\n",
       "    <tr>\n",
       "      <th>3</th>\n",
       "      <td>4</td>\n",
       "      <td>1</td>\n",
       "      <td>1</td>\n",
       "      <td>Futrelle, Mrs. Jacques Heath (Lily May Peel)</td>\n",
       "      <td>female</td>\n",
       "      <td>35.0</td>\n",
       "      <td>1</td>\n",
       "      <td>0</td>\n",
       "      <td>113803</td>\n",
       "      <td>53.1000</td>\n",
       "      <td>C123</td>\n",
       "      <td>S</td>\n",
       "    </tr>\n",
       "    <tr>\n",
       "      <th>4</th>\n",
       "      <td>5</td>\n",
       "      <td>0</td>\n",
       "      <td>3</td>\n",
       "      <td>Allen, Mr. William Henry</td>\n",
       "      <td>male</td>\n",
       "      <td>35.0</td>\n",
       "      <td>0</td>\n",
       "      <td>0</td>\n",
       "      <td>373450</td>\n",
       "      <td>8.0500</td>\n",
       "      <td>NaN</td>\n",
       "      <td>S</td>\n",
       "    </tr>\n",
       "    <tr>\n",
       "      <th>5</th>\n",
       "      <td>6</td>\n",
       "      <td>0</td>\n",
       "      <td>3</td>\n",
       "      <td>Moran, Mr. James</td>\n",
       "      <td>male</td>\n",
       "      <td>NaN</td>\n",
       "      <td>0</td>\n",
       "      <td>0</td>\n",
       "      <td>330877</td>\n",
       "      <td>8.4583</td>\n",
       "      <td>NaN</td>\n",
       "      <td>Q</td>\n",
       "    </tr>\n",
       "    <tr>\n",
       "      <th>6</th>\n",
       "      <td>7</td>\n",
       "      <td>0</td>\n",
       "      <td>1</td>\n",
       "      <td>McCarthy, Mr. Timothy J</td>\n",
       "      <td>male</td>\n",
       "      <td>54.0</td>\n",
       "      <td>0</td>\n",
       "      <td>0</td>\n",
       "      <td>17463</td>\n",
       "      <td>51.8625</td>\n",
       "      <td>E46</td>\n",
       "      <td>S</td>\n",
       "    </tr>\n",
       "    <tr>\n",
       "      <th>7</th>\n",
       "      <td>8</td>\n",
       "      <td>0</td>\n",
       "      <td>3</td>\n",
       "      <td>Palsson, Master. Gosta Leonard</td>\n",
       "      <td>male</td>\n",
       "      <td>2.0</td>\n",
       "      <td>3</td>\n",
       "      <td>1</td>\n",
       "      <td>349909</td>\n",
       "      <td>21.0750</td>\n",
       "      <td>NaN</td>\n",
       "      <td>S</td>\n",
       "    </tr>\n",
       "    <tr>\n",
       "      <th>8</th>\n",
       "      <td>9</td>\n",
       "      <td>1</td>\n",
       "      <td>3</td>\n",
       "      <td>Johnson, Mrs. Oscar W (Elisabeth Vilhelmina Berg)</td>\n",
       "      <td>female</td>\n",
       "      <td>27.0</td>\n",
       "      <td>0</td>\n",
       "      <td>2</td>\n",
       "      <td>347742</td>\n",
       "      <td>11.1333</td>\n",
       "      <td>NaN</td>\n",
       "      <td>S</td>\n",
       "    </tr>\n",
       "    <tr>\n",
       "      <th>9</th>\n",
       "      <td>10</td>\n",
       "      <td>1</td>\n",
       "      <td>2</td>\n",
       "      <td>Nasser, Mrs. Nicholas (Adele Achem)</td>\n",
       "      <td>female</td>\n",
       "      <td>14.0</td>\n",
       "      <td>1</td>\n",
       "      <td>0</td>\n",
       "      <td>237736</td>\n",
       "      <td>30.0708</td>\n",
       "      <td>NaN</td>\n",
       "      <td>C</td>\n",
       "    </tr>\n",
       "  </tbody>\n",
       "</table>\n",
       "</div>"
      ],
      "text/plain": [
       "   PassengerId  Survived  Pclass  \\\n",
       "0            1         0       3   \n",
       "1            2         1       1   \n",
       "2            3         1       3   \n",
       "3            4         1       1   \n",
       "4            5         0       3   \n",
       "5            6         0       3   \n",
       "6            7         0       1   \n",
       "7            8         0       3   \n",
       "8            9         1       3   \n",
       "9           10         1       2   \n",
       "\n",
       "                                                Name     Sex   Age  SibSp  \\\n",
       "0                            Braund, Mr. Owen Harris    male  22.0      1   \n",
       "1  Cumings, Mrs. John Bradley (Florence Briggs Th...  female  38.0      1   \n",
       "2                             Heikkinen, Miss. Laina  female  26.0      0   \n",
       "3       Futrelle, Mrs. Jacques Heath (Lily May Peel)  female  35.0      1   \n",
       "4                           Allen, Mr. William Henry    male  35.0      0   \n",
       "5                                   Moran, Mr. James    male   NaN      0   \n",
       "6                            McCarthy, Mr. Timothy J    male  54.0      0   \n",
       "7                     Palsson, Master. Gosta Leonard    male   2.0      3   \n",
       "8  Johnson, Mrs. Oscar W (Elisabeth Vilhelmina Berg)  female  27.0      0   \n",
       "9                Nasser, Mrs. Nicholas (Adele Achem)  female  14.0      1   \n",
       "\n",
       "   Parch            Ticket     Fare Cabin Embarked  \n",
       "0      0         A/5 21171   7.2500   NaN        S  \n",
       "1      0          PC 17599  71.2833   C85        C  \n",
       "2      0  STON/O2. 3101282   7.9250   NaN        S  \n",
       "3      0            113803  53.1000  C123        S  \n",
       "4      0            373450   8.0500   NaN        S  \n",
       "5      0            330877   8.4583   NaN        Q  \n",
       "6      0             17463  51.8625   E46        S  \n",
       "7      1            349909  21.0750   NaN        S  \n",
       "8      2            347742  11.1333   NaN        S  \n",
       "9      0            237736  30.0708   NaN        C  "
      ]
     },
     "execution_count": 4,
     "metadata": {},
     "output_type": "execute_result"
    }
   ],
   "source": [
    "df_train[:10]"
   ]
  },
  {
   "cell_type": "markdown",
   "metadata": {
    "_uuid": "3bbdfdc23d085c1c95ef923b165c988be09c029a"
   },
   "source": [
    "## Histograms"
   ]
  },
  {
   "cell_type": "code",
   "execution_count": 5,
   "metadata": {
    "_uuid": "05b89cb5f2861b1b4b2170632ccbb9cfebd0c1bc"
   },
   "outputs": [
    {
     "data": {
      "image/png": "[encoded data removed]",
      "text/plain": [
       "<Figure size 1440x1080 with 9 Axes>"
      ]
     },
     "metadata": {
      "needs_background": "light"
     },
     "output_type": "display_data"
    }
   ],
   "source": [
    "df_train.hist(bins=50, figsize=(20, 15))\n",
    "plt.show()"
   ]
  },
  {
   "cell_type": "markdown",
   "metadata": {
    "_uuid": "6d947a2de89ae39dddf8c44b7ba4b7b441a2411f"
   },
   "source": [
    "## Information on columns"
   ]
  },
  {
   "cell_type": "code",
   "execution_count": 6,
   "metadata": {
    "_uuid": "da9caba78190b0d9a87549919042654ff78d5e42"
   },
   "outputs": [
    {
     "data": {
      "text/html": [
       "<div>\n",
       "<style scoped>\n",
       "    .dataframe tbody tr th:only-of-type {\n",
       "        vertical-align: middle;\n",
       "    }\n",
       "\n",
       "    .dataframe tbody tr th {\n",
       "        vertical-align: top;\n",
       "    }\n",
       "\n",
       "    .dataframe thead th {\n",
       "        text-align: right;\n",
       "    }\n",
       "</style>\n",
       "<table border=\"1\" class=\"dataframe\">\n",
       "  <thead>\n",
       "    <tr style=\"text-align: right;\">\n",
       "      <th></th>\n",
       "      <th>PassengerId</th>\n",
       "      <th>Survived</th>\n",
       "      <th>Pclass</th>\n",
       "      <th>Age</th>\n",
       "      <th>SibSp</th>\n",
       "      <th>Parch</th>\n",
       "      <th>Fare</th>\n",
       "    </tr>\n",
       "  </thead>\n",
       "  <tbody>\n",
       "    <tr>\n",
       "      <th>count</th>\n",
       "      <td>691.000000</td>\n",
       "      <td>691.000000</td>\n",
       "      <td>691.000000</td>\n",
       "      <td>548.000000</td>\n",
       "      <td>691.000000</td>\n",
       "      <td>691.000000</td>\n",
       "      <td>691.000000</td>\n",
       "    </tr>\n",
       "    <tr>\n",
       "      <th>mean</th>\n",
       "      <td>346.000000</td>\n",
       "      <td>0.387844</td>\n",
       "      <td>2.308249</td>\n",
       "      <td>29.921989</td>\n",
       "      <td>0.538350</td>\n",
       "      <td>0.387844</td>\n",
       "      <td>32.276103</td>\n",
       "    </tr>\n",
       "    <tr>\n",
       "      <th>std</th>\n",
       "      <td>199.618803</td>\n",
       "      <td>0.487612</td>\n",
       "      <td>0.835224</td>\n",
       "      <td>14.598391</td>\n",
       "      <td>1.076585</td>\n",
       "      <td>0.821855</td>\n",
       "      <td>48.447543</td>\n",
       "    </tr>\n",
       "    <tr>\n",
       "      <th>min</th>\n",
       "      <td>1.000000</td>\n",
       "      <td>0.000000</td>\n",
       "      <td>1.000000</td>\n",
       "      <td>0.750000</td>\n",
       "      <td>0.000000</td>\n",
       "      <td>0.000000</td>\n",
       "      <td>0.000000</td>\n",
       "    </tr>\n",
       "    <tr>\n",
       "      <th>25%</th>\n",
       "      <td>173.500000</td>\n",
       "      <td>0.000000</td>\n",
       "      <td>2.000000</td>\n",
       "      <td>21.000000</td>\n",
       "      <td>0.000000</td>\n",
       "      <td>0.000000</td>\n",
       "      <td>7.925000</td>\n",
       "    </tr>\n",
       "    <tr>\n",
       "      <th>50%</th>\n",
       "      <td>346.000000</td>\n",
       "      <td>0.000000</td>\n",
       "      <td>3.000000</td>\n",
       "      <td>28.000000</td>\n",
       "      <td>0.000000</td>\n",
       "      <td>0.000000</td>\n",
       "      <td>15.000000</td>\n",
       "    </tr>\n",
       "    <tr>\n",
       "      <th>75%</th>\n",
       "      <td>518.500000</td>\n",
       "      <td>1.000000</td>\n",
       "      <td>3.000000</td>\n",
       "      <td>38.000000</td>\n",
       "      <td>1.000000</td>\n",
       "      <td>0.000000</td>\n",
       "      <td>31.275000</td>\n",
       "    </tr>\n",
       "    <tr>\n",
       "      <th>max</th>\n",
       "      <td>691.000000</td>\n",
       "      <td>1.000000</td>\n",
       "      <td>3.000000</td>\n",
       "      <td>80.000000</td>\n",
       "      <td>8.000000</td>\n",
       "      <td>6.000000</td>\n",
       "      <td>512.329200</td>\n",
       "    </tr>\n",
       "  </tbody>\n",
       "</table>\n",
       "</div>"
      ],
      "text/plain": [
       "       PassengerId    Survived      Pclass         Age       SibSp  \\\n",
       "count   691.000000  691.000000  691.000000  548.000000  691.000000   \n",
       "mean    346.000000    0.387844    2.308249   29.921989    0.538350   \n",
       "std     199.618803    0.487612    0.835224   14.598391    1.076585   \n",
       "min       1.000000    0.000000    1.000000    0.750000    0.000000   \n",
       "25%     173.500000    0.000000    2.000000   21.000000    0.000000   \n",
       "50%     346.000000    0.000000    3.000000   28.000000    0.000000   \n",
       "75%     518.500000    1.000000    3.000000   38.000000    1.000000   \n",
       "max     691.000000    1.000000    3.000000   80.000000    8.000000   \n",
       "\n",
       "            Parch        Fare  \n",
       "count  691.000000  691.000000  \n",
       "mean     0.387844   32.276103  \n",
       "std      0.821855   48.447543  \n",
       "min      0.000000    0.000000  \n",
       "25%      0.000000    7.925000  \n",
       "50%      0.000000   15.000000  \n",
       "75%      0.000000   31.275000  \n",
       "max      6.000000  512.329200  "
      ]
     },
     "execution_count": 6,
     "metadata": {},
     "output_type": "execute_result"
    }
   ],
   "source": [
    "df_train.describe()"
   ]
  },
  {
   "cell_type": "markdown",
   "metadata": {
    "_uuid": "f8e7a99d1040558378c4727c1eb691df167eb298"
   },
   "source": [
    "## Build of my Transformers"
   ]
  },
  {
   "cell_type": "code",
   "execution_count": 7,
   "metadata": {
    "_uuid": "6d0c6e4f65aef09da38717a1fd99989cd4f1da95"
   },
   "outputs": [],
   "source": [
    "#Custom Transformer which drop colunmns\n",
    "from sklearn.base import TransformerMixin\n",
    "class DropTransformer(TransformerMixin):\n",
    "    def fit(self, X, y=None):\n",
    "        return self\n",
    "\n",
    "    def transform(self, X):\n",
    "        cat=['Ticket', 'Fare', 'Cabin', 'Name', 'SibSp', 'Parch', 'PassengerId']\n",
    "        Xnew = X.drop(cat, axis=1)\n",
    "        return Xnew"
   ]
  },
  {
   "cell_type": "code",
   "execution_count": 8,
   "metadata": {
    "_uuid": "4671414092ffe8fd5e3fa01424dba8bcff6d8346"
   },
   "outputs": [],
   "source": [
    "#Custom Transformer get dummies of my categorical columns\n",
    "class GetDummiesTransformer(TransformerMixin):\n",
    "    def fit(self, X, y=None):\n",
    "        return self\n",
    "    def transform(self, X):\n",
    "        features_totransform = ['Sex', 'Embarked', 'Pclass', 'Title']\n",
    "        for var in features_totransform:\n",
    "            X = pd.concat([X.drop(var, axis=1), pd.get_dummies(X[var], prefix=var)], axis=1)\n",
    "        return X"
   ]
  },
  {
   "cell_type": "code",
   "execution_count": 9,
   "metadata": {
    "_uuid": "e28f77001ee5b7af2595ddb91e417ceacdace8e5"
   },
   "outputs": [],
   "source": [
    "#Custom Transformer for impute median age into NaN values\n",
    "class Imputer(TransformerMixin):\n",
    "    def fit(self, X, y=None):\n",
    "        return self\n",
    "    \n",
    "    def transform(self, X):\n",
    "        X['Age'] = X['Age'].fillna(df_train['Age'].median())\n",
    "        return X\n"
   ]
  },
  {
   "cell_type": "code",
   "execution_count": 10,
   "metadata": {
    "_uuid": "368197a4824dbd684eab6c24b4b314c292c898d9"
   },
   "outputs": [],
   "source": [
    "#Custom Transformer for extract Title of people\n",
    "class Title(TransformerMixin):\n",
    "    def fit(self, X, y=None):\n",
    "        return self\n",
    "    \n",
    "    def transform(self, X):\n",
    "        for i in X:\n",
    "            X['Title']=X['Name'].str.extract('([A-Za-z]+)\\.', expand=False)  # Use REGEX to define a search pattern\n",
    "        return X"
   ]
  },
  {
   "cell_type": "code",
   "execution_count": 11,
   "metadata": {
    "_uuid": "bbefafe78fe396a89d017f835c1ad4645f573aab"
   },
   "outputs": [],
   "source": [
    "#Custom Transformer obtains the number of person of the same family\n",
    "class Family(TransformerMixin):\n",
    "    def fit(self, X, y=None):\n",
    "        return self\n",
    "    \n",
    "    def transform(self, X):\n",
    "        for i in X:\n",
    "            X['Family']=X['SibSp'] + X['Parch']\n",
    "        return X"
   ]
  },
  {
   "cell_type": "markdown",
   "metadata": {
    "_uuid": "cf23217957fce56e6754c3add03c7ef0ecb7f1df"
   },
   "source": [
    "## My Pipelines"
   ]
  },
  {
   "cell_type": "code",
   "execution_count": 12,
   "metadata": {
    "_uuid": "12f86f7ea04d027e1106057a26e52cf1c7eb7b47",
    "scrolled": true
   },
   "outputs": [],
   "source": [
    "#Pipeline\n",
    "from sklearn.pipeline import Pipeline\n",
    "pipeline = Pipeline([ \n",
    "        ('imp', Imputer()),\n",
    "        ('title', Title()),\n",
    "        ('family', Family()),\n",
    "        ('drop', DropTransformer()),\n",
    "        ('encoder', GetDummiesTransformer())\n",
    "    ])\n",
    "\n",
    "df_train_tr = pipeline.fit_transform(df_train)\n",
    "df_test_tr = pipeline.transform(df_test)\n",
    "\n"
   ]
  },
  {
   "cell_type": "markdown",
   "metadata": {
    "_uuid": "eab35970652608f418c3dba09bb18304a76d7464"
   },
   "source": [
    "df_train_tr contrains 28 columns wheareas df_test_tr contains only 19 columns.."
   ]
  },
  {
   "cell_type": "markdown",
   "metadata": {
    "_uuid": "88ce43b6c89f1fb39efdcfc5a5b94b0b55fd9ee6"
   },
   "source": [
    "A lot of Titles are not given"
   ]
  },
  {
   "cell_type": "code",
   "execution_count": 13,
   "metadata": {
    "_uuid": "c4e1b2a02a23c0bcca841d421c5bc2c26c485b62"
   },
   "outputs": [],
   "source": [
    "#Custom Transformer for modify the Title into other caterogies\n",
    "class TitleTransformer(TransformerMixin):\n",
    "    def fit(self, X, y=None):\n",
    "        return self\n",
    "    \n",
    "    def transform(self, X):\n",
    "        for i in X:\n",
    "            X['Title']=X['Title'].replace(['Capt', 'Col', 'Don', 'Dr', 'Major', 'Rev'], 'Officer')\n",
    "            X['Title']=X['Title'].replace(['Lady', 'Countess', 'Sir', 'Jonkheer', 'Dona', 'Master'], 'Royalty')\n",
    "            X['Title']=X['Title'].replace('Mlle', 'Miss')\n",
    "            X['Title'] = X['Title'].replace('Ms', 'Miss')\n",
    "            X['Title'] = X['Title'].replace('Mme', 'Mrs')\n",
    "            \n",
    "        return X\n"
   ]
  },
  {
   "cell_type": "code",
   "execution_count": 14,
   "metadata": {},
   "outputs": [],
   "source": [
    "#Pipeline\n",
    "from sklearn.pipeline import Pipeline\n",
    "pipeline2= Pipeline([ \n",
    "        ('imp', Imputer()),\n",
    "        ('title', Title()),\n",
    "        ('family', Family()),\n",
    "        ('drop', DropTransformer()),\n",
    "        ('titlet', TitleTransformer()),\n",
    "        ('encoder', GetDummiesTransformer())\n",
    "    ])\n",
    "\n",
    "df_train_tr = pipeline2.fit_transform(df_train)\n",
    "df_test_tr = pipeline2.transform(df_test)"
   ]
  },
  {
   "cell_type": "markdown",
   "metadata": {
    "_uuid": "29559c3d34bf5adac41ade448d59e5f3155dfcaf"
   },
   "source": [
    "## Classifier"
   ]
  },
  {
   "cell_type": "code",
   "execution_count": 15,
   "metadata": {
    "_uuid": "d73233258613108b54e87ac9e7ede0cee490c89f"
   },
   "outputs": [],
   "source": [
    "from sklearn.model_selection import GridSearchCV\n",
    "\n",
    "X_train = df_train_tr.drop(['Survived'], axis=1).values\n",
    "X_test = df_test_tr.drop(['Survived'], axis=1).values\n",
    "y_train_1 = (df_train['Survived'] == 1)\n",
    "y_test_1 = (df_test['Survived'] ==1)"
   ]
  },
  {
   "cell_type": "markdown",
   "metadata": {},
   "source": [
    "### SVM"
   ]
  },
  {
   "cell_type": "code",
   "execution_count": 25,
   "metadata": {},
   "outputs": [
    {
     "name": "stderr",
     "output_type": "stream",
     "text": [
      "C:\\Users\\Anthime\\Anaconda3\\envs\\myfirstenv\\lib\\site-packages\\sklearn\\svm\\base.py:196: FutureWarning: The default value of gamma will change from 'auto' to 'scale' in version 0.22 to account better for unscaled features. Set gamma explicitly to 'auto' or 'scale' to avoid this warning.\n",
      "  \"avoid this warning.\", FutureWarning)\n",
      "C:\\Users\\Anthime\\Anaconda3\\envs\\myfirstenv\\lib\\site-packages\\sklearn\\svm\\base.py:196: FutureWarning: The default value of gamma will change from 'auto' to 'scale' in version 0.22 to account better for unscaled features. Set gamma explicitly to 'auto' or 'scale' to avoid this warning.\n",
      "  \"avoid this warning.\", FutureWarning)\n",
      "C:\\Users\\Anthime\\Anaconda3\\envs\\myfirstenv\\lib\\site-packages\\sklearn\\svm\\base.py:196: FutureWarning: The default value of gamma will change from 'auto' to 'scale' in version 0.22 to account better for unscaled features. Set gamma explicitly to 'auto' or 'scale' to avoid this warning.\n",
      "  \"avoid this warning.\", FutureWarning)\n",
      "C:\\Users\\Anthime\\Anaconda3\\envs\\myfirstenv\\lib\\site-packages\\sklearn\\svm\\base.py:196: FutureWarning: The default value of gamma will change from 'auto' to 'scale' in version 0.22 to account better for unscaled features. Set gamma explicitly to 'auto' or 'scale' to avoid this warning.\n",
      "  \"avoid this warning.\", FutureWarning)\n"
     ]
    },
    {
     "name": "stdout",
     "output_type": "stream",
     "text": [
      "0.86\n"
     ]
    },
    {
     "data": {
      "text/plain": [
       "0.23300743103027344"
      ]
     },
     "execution_count": 25,
     "metadata": {},
     "output_type": "execute_result"
    }
   ],
   "source": [
    "from sklearn.svm import SVC\n",
    "\n",
    "start_time = time.time()\n",
    "\n",
    "\n",
    "SVM = SVC(probability=True)\n",
    "SVM.fit(X_train, y_train_1)\n",
    "y_scores_svm = SVM.predict(X_test)\n",
    "\n",
    "y_probas_SVM_train = cross_val_predict(SVM, X_train, y_train_1, cv=3,\n",
    "                             method=\"predict_proba\")\n",
    "y_scores_SVM_train = y_probas_SVM_train[:, 1] # score = proba of positive class\n",
    "\n",
    "result_SVM = accuracy_score(y_test_1, y_scores_svm)\n",
    "print(result_SVM)\n",
    "svm_time = (time.time() - start_time)\n",
    "\n"
   ]
  },
  {
   "cell_type": "markdown",
   "metadata": {},
   "source": [
    "### Decision Tree"
   ]
  },
  {
   "cell_type": "code",
   "execution_count": 29,
   "metadata": {},
   "outputs": [
    {
     "name": "stdout",
     "output_type": "stream",
     "text": [
      "0.915\n",
      "0.010935306549072266\n"
     ]
    }
   ],
   "source": [
    "\n",
    "DTC = DecisionTreeClassifier(criterion='gini', max_depth=10)\n",
    "\n",
    "start_time = time.time()\n",
    "\n",
    "DTC.fit(X_train, y_train_1)\n",
    "y_scores_DTC = DTC.predict(X_test)\n",
    "y_probas_DTC_train = cross_val_predict(DTC, X_train, y_train_1, cv=3,\n",
    "                             method=\"predict_proba\")\n",
    "y_scores_DTC_train = y_probas_DTC_train[:, 1] # score = proba of positive class\n",
    "\n",
    "\n",
    "result_DTC = accuracy_score(y_test_1, y_scores_DTC)\n",
    "print(result_DTC)\n",
    "DTC_time = (time.time() - start_time)\n",
    "print(DTC_time)"
   ]
  },
  {
   "cell_type": "markdown",
   "metadata": {
    "_uuid": "24e48cf1a7baa2114b7b2c17fe1d623e48b3d1fc"
   },
   "source": [
    "### RandomForest Classifier"
   ]
  },
  {
   "cell_type": "code",
   "execution_count": 30,
   "metadata": {},
   "outputs": [
    {
     "name": "stdout",
     "output_type": "stream",
     "text": [
      "0.92\n"
     ]
    },
    {
     "name": "stderr",
     "output_type": "stream",
     "text": [
      "C:\\Users\\Anthime\\Anaconda3\\envs\\myfirstenv\\lib\\site-packages\\sklearn\\ensemble\\forest.py:246: FutureWarning: The default value of n_estimators will change from 10 in version 0.20 to 100 in 0.22.\n",
      "  \"10 in version 0.20 to 100 in 0.22.\", FutureWarning)\n"
     ]
    }
   ],
   "source": [
    "from sklearn.ensemble import RandomForestClassifier\n",
    "forest_clf = RandomForestClassifier(random_state=42)\n",
    "\n",
    "start_time = time.time()\n",
    "\n",
    "\n",
    "forest_clf.fit(X_train, y_train_1)\n",
    "y_scores_forest = forest_clf.predict(X_test)\n",
    "\n",
    "y_probas_forest_train = cross_val_predict(forest_clf, X_train, y_train_1, cv=3,\n",
    "                             method=\"predict_proba\")\n",
    "y_scores_forest_train = y_probas_forest_train[:, 1] # score = proba of positive class\n",
    "\n",
    "result_forest = accuracy_score(y_test_1, y_scores_forest)\n",
    "print(result_forest)\n",
    "forest_time = (time.time() - start_time)"
   ]
  },
  {
   "cell_type": "markdown",
   "metadata": {
    "_uuid": "6e8161f39dad2e31733374769fb9f0ee535fa56a"
   },
   "source": [
    "### AdaBoostClassifier\n"
   ]
  },
  {
   "cell_type": "code",
   "execution_count": 19,
   "metadata": {
    "_uuid": "8a15fe780da219a5f509e52fef7af3da67fd14d7",
    "scrolled": false
   },
   "outputs": [],
   "source": [
    "from sklearn.ensemble import AdaBoostClassifier\n",
    "\n",
    "\n",
    "DTC = DecisionTreeClassifier()\n",
    "ada_clf = AdaBoostClassifier(DTC, random_state=42)\n"
   ]
  },
  {
   "cell_type": "code",
   "execution_count": 31,
   "metadata": {
    "_uuid": "a385149cca4e19e6ec92c7cabe65f44107fdcd7f"
   },
   "outputs": [
    {
     "name": "stdout",
     "output_type": "stream",
     "text": [
      "0.95\n"
     ]
    }
   ],
   "source": [
    "start_time = time.time()\n",
    "\n",
    "ada_clf.fit(X_train, y_train_1)\n",
    "y_scores_ada = ada_clf.predict(X_test)\n",
    "y_scores_ada_train = cross_val_predict(ada_clf, X_train, y_train_1, cv=3,\n",
    "                             method=\"decision_function\")\n",
    "\n",
    "result_ada = accuracy_score(y_test_1, y_scores_ada)\n",
    "print(result_ada)\n",
    "ada_time = (time.time() - start_time)\n"
   ]
  },
  {
   "cell_type": "markdown",
   "metadata": {
    "_uuid": "0d31c417bcd8f8c9ddbb76bf8d7f8369d9ffd8c9"
   },
   "source": [
    "### Voting"
   ]
  },
  {
   "cell_type": "code",
   "execution_count": 37,
   "metadata": {
    "_uuid": "2579fa6ca7c086d4488a2c25592bb68fd85362a4"
   },
   "outputs": [
    {
     "name": "stderr",
     "output_type": "stream",
     "text": [
      "C:\\Users\\Anthime\\Anaconda3\\envs\\myfirstenv\\lib\\site-packages\\sklearn\\svm\\base.py:196: FutureWarning: The default value of gamma will change from 'auto' to 'scale' in version 0.22 to account better for unscaled features. Set gamma explicitly to 'auto' or 'scale' to avoid this warning.\n",
      "  \"avoid this warning.\", FutureWarning)\n",
      "C:\\Users\\Anthime\\Anaconda3\\envs\\myfirstenv\\lib\\site-packages\\sklearn\\svm\\base.py:196: FutureWarning: The default value of gamma will change from 'auto' to 'scale' in version 0.22 to account better for unscaled features. Set gamma explicitly to 'auto' or 'scale' to avoid this warning.\n",
      "  \"avoid this warning.\", FutureWarning)\n",
      "C:\\Users\\Anthime\\Anaconda3\\envs\\myfirstenv\\lib\\site-packages\\sklearn\\svm\\base.py:196: FutureWarning: The default value of gamma will change from 'auto' to 'scale' in version 0.22 to account better for unscaled features. Set gamma explicitly to 'auto' or 'scale' to avoid this warning.\n",
      "  \"avoid this warning.\", FutureWarning)\n"
     ]
    },
    {
     "name": "stdout",
     "output_type": "stream",
     "text": [
      "0.94\n"
     ]
    },
    {
     "name": "stderr",
     "output_type": "stream",
     "text": [
      "C:\\Users\\Anthime\\Anaconda3\\envs\\myfirstenv\\lib\\site-packages\\sklearn\\svm\\base.py:196: FutureWarning: The default value of gamma will change from 'auto' to 'scale' in version 0.22 to account better for unscaled features. Set gamma explicitly to 'auto' or 'scale' to avoid this warning.\n",
      "  \"avoid this warning.\", FutureWarning)\n"
     ]
    }
   ],
   "source": [
    "\n",
    "from sklearn.ensemble import VotingClassifier\n",
    "eclf1 = VotingClassifier(estimators=[('svm', SVM),\n",
    "        ('lr', forest_clf), ('adb', ada_clf), ('dtc', DTC)], voting='soft')\n",
    "start_time = time.time()\n",
    "\n",
    "eclf1 = eclf1.fit(X_train, y_train_1)\n",
    "\n",
    "y_scores_eclf1 =eclf1.predict(X_test)\n",
    "y_probas_eclf1_train = cross_val_predict(eclf1, X_train, y_train_1, cv=3,\n",
    "                             method=\"predict_proba\")\n",
    "y_scores_eclf1_train = y_probas_eclf1_train[:, 1]\n",
    "\n",
    "result_eclf1 = accuracy_score(y_test_1, y_scores_eclf1)\n",
    "print(result_eclf1)\n",
    "eclf1_time = (time.time() - start_time)\n"
   ]
  },
  {
   "cell_type": "code",
   "execution_count": 22,
   "metadata": {},
   "outputs": [
    {
     "data": {
      "image/png": "[encoded data removed]",
      "text/plain": [
       "<Figure size 576x432 with 1 Axes>"
      ]
     },
     "metadata": {
      "needs_background": "light"
     },
     "output_type": "display_data"
    }
   ],
   "source": [
    "\n",
    "fpr_ada, tpr_ada, thresholds_ada = roc_curve(y_train_1, y_scores_ada_train)\n",
    "fpr_DTC, tpr_DTC, thresholds_DTC = roc_curve(y_train_1, y_scores_DTC_train)\n",
    "fpr_forest, tpr_forest, thresholds_forest = roc_curve(y_train_1, y_scores_forest_train)\n",
    "fpr_svm, tpr_svm, thresholds_svm = roc_curve(y_train_1, y_scores_SVM_train)\n",
    "fpr_eclf1, tpr_eclf1, thresholds_eclf1 = roc_curve(y_train_1, y_scores_eclf1_train)\n",
    "\n",
    "\n",
    "\n",
    "\n",
    "\n",
    "def plot_roc_curve(fpr, tpr, label=None):\n",
    "    plt.plot(fpr, tpr, linewidth=2, label=label)\n",
    "    plt.plot([0, 1], [0, 1], 'k--')\n",
    "    plt.axis([0, 1, 0, 1])\n",
    "    plt.xlabel('False Positive Rate', fontsize=16)\n",
    "    plt.ylabel('True Positive Rate', fontsize=16)\n",
    "    \n",
    "    plt.legend(loc=\"lower right\", fontsize=16)\n",
    "\n",
    "\n",
    "plt.figure(figsize=(8, 6))\n",
    "plot_roc_curve(fpr_ada, tpr_ada, \"AdaBoost\")\n",
    "plot_roc_curve(fpr_DTC, tpr_DTC, \"Decision Tree\")\n",
    "plot_roc_curve(fpr_forest, tpr_forest, \"Random Forest\")\n",
    "plot_roc_curve(fpr_svm, tpr_svm, \"Support Vector Machine\")\n",
    "plot_roc_curve(fpr_eclf1, tpr_eclf1, \"Voting\")\n",
    "\n",
    "\n",
    "plt.show()\n"
   ]
  },
  {
   "cell_type": "code",
   "execution_count": 39,
   "metadata": {},
   "outputs": [
    {
     "name": "stdout",
     "output_type": "stream",
     "text": [
      "Area Under Curve :                               Accuracy on Test :\n",
      "AUC AdaBoost :  0.757669983416252                Result on test :  0.95\n",
      "AUC Decision Tree :  0.732565011820331           Result on test :  0.915\n",
      "AUC Forest :  0.7849008503581385                 Result on test :  0.92\n",
      "AUC SVM :  0.8209616809569176                    Result on test :  0.86\n",
      "AUC Voting :  0.7955832539430507                 Result on test :  0.94\n",
      "\n",
      "Execution time\n",
      "AdaBoost time :  0.36901211738586426\n",
      "Decision Tree time :  0.010935306549072266\n",
      "SVM time :  0.010974884033203125\n",
      "RandomForest time :  0.06585502624511719\n",
      "Vote time :  0.66422438621521\n"
     ]
    }
   ],
   "source": [
    "from sklearn.metrics import roc_auc_score\n",
    "\n",
    "print('Area Under Curve :                               Accuracy on Test :')\n",
    "print('AUC AdaBoost : ', roc_auc_score(y_train_1, y_scores_ada_train), '               Result on test : ', result_ada)\n",
    "print('AUC Decision Tree : ', roc_auc_score(y_train_1, y_scores_DTC_train), '          Result on test : ', result_DTC)\n",
    "print('AUC Forest : ', roc_auc_score(y_train_1, y_scores_forest_train), '                Result on test : ', result_forest)\n",
    "print('AUC SVM : ', roc_auc_score(y_train_1, y_scores_SVM_train), '                   Result on test : ', result_SVM)\n",
    "print('AUC Voting : ', roc_auc_score(y_train_1, y_scores_eclf1_train), '                Result on test : ', result_eclf1)\n",
    "\n",
    "\n",
    "print('\\nExecution time')\n",
    "print('AdaBoost time : ', ada_time)\n",
    "print('Decision Tree time : ', DTC_time)\n",
    "print('SVM time : ', svm_time)\n",
    "print('RandomForest time : ', forest_time)\n",
    "print('Vote time : ', eclf1_time)"
   ]
  }
 ],
 "metadata": {
  "kernelspec": {
   "display_name": "Python 3",
   "language": "python",
   "name": "python3"
  },
  "language_info": {
   "codemirror_mode": {
    "name": "ipython",
    "version": 3
   },
   "file_extension": ".py",
   "mimetype": "text/x-python",
   "name": "python",
   "nbconvert_exporter": "python",
   "pygments_lexer": "ipython3",
   "version": "3.6.8"
  }
 },
 "nbformat": 4,
 "nbformat_minor": 1
}
